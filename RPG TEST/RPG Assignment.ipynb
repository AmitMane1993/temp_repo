{
 "cells": [
  {
   "cell_type": "code",
   "execution_count": 1,
   "id": "51c27b8f",
   "metadata": {},
   "outputs": [],
   "source": [
    "import pandas as pd\n",
    "import numpy as np\n",
    "import matplotlib.pyplot as plt\n",
    "import seaborn as sns\n",
    "import plotly.express as px"
   ]
  },
  {
   "cell_type": "code",
   "execution_count": 2,
   "id": "b5370790",
   "metadata": {},
   "outputs": [],
   "source": [
    "train = pd.read_csv(r\"train.csv\")\n",
    "val = pd.read_csv(r\"validation.csv\")"
   ]
  },
  {
   "cell_type": "code",
   "execution_count": 3,
   "id": "99a1880a",
   "metadata": {},
   "outputs": [
    {
     "data": {
      "text/plain": [
       "((491, 13), (123, 12))"
      ]
     },
     "execution_count": 3,
     "metadata": {},
     "output_type": "execute_result"
    }
   ],
   "source": [
    "train.shape, val.shape"
   ]
  },
  {
   "cell_type": "code",
   "execution_count": 4,
   "id": "ba01a9e6",
   "metadata": {},
   "outputs": [
    {
     "name": "stdout",
     "output_type": "stream",
     "text": [
      "<class 'pandas.core.frame.DataFrame'>\n",
      "RangeIndex: 491 entries, 0 to 490\n",
      "Data columns (total 13 columns):\n",
      " #   Column             Non-Null Count  Dtype  \n",
      "---  ------             --------------  -----  \n",
      " 0   Loan_ID            491 non-null    object \n",
      " 1   Gender             480 non-null    object \n",
      " 2   Married            488 non-null    object \n",
      " 3   Dependents         478 non-null    object \n",
      " 4   Education          491 non-null    object \n",
      " 5   Self_Employed      463 non-null    object \n",
      " 6   ApplicantIncome    491 non-null    int64  \n",
      " 7   CoapplicantIncome  491 non-null    float64\n",
      " 8   LoanAmount         474 non-null    float64\n",
      " 9   Loan_Amount_Term   480 non-null    float64\n",
      " 10  Credit_History     447 non-null    float64\n",
      " 11  Property_Area      491 non-null    object \n",
      " 12  Loan_Status        491 non-null    object \n",
      "dtypes: float64(4), int64(1), object(8)\n",
      "memory usage: 50.0+ KB\n"
     ]
    }
   ],
   "source": [
    "train.info()"
   ]
  },
  {
   "cell_type": "code",
   "execution_count": 5,
   "id": "c2b65f68",
   "metadata": {
    "scrolled": false
   },
   "outputs": [
    {
     "data": {
      "text/html": [
       "<div>\n",
       "<style scoped>\n",
       "    .dataframe tbody tr th:only-of-type {\n",
       "        vertical-align: middle;\n",
       "    }\n",
       "\n",
       "    .dataframe tbody tr th {\n",
       "        vertical-align: top;\n",
       "    }\n",
       "\n",
       "    .dataframe thead th {\n",
       "        text-align: right;\n",
       "    }\n",
       "</style>\n",
       "<table border=\"1\" class=\"dataframe\">\n",
       "  <thead>\n",
       "    <tr style=\"text-align: right;\">\n",
       "      <th></th>\n",
       "      <th>Loan_ID</th>\n",
       "      <th>Gender</th>\n",
       "      <th>Married</th>\n",
       "      <th>Dependents</th>\n",
       "      <th>Education</th>\n",
       "      <th>Self_Employed</th>\n",
       "      <th>ApplicantIncome</th>\n",
       "      <th>CoapplicantIncome</th>\n",
       "      <th>LoanAmount</th>\n",
       "      <th>Loan_Amount_Term</th>\n",
       "      <th>Credit_History</th>\n",
       "      <th>Property_Area</th>\n",
       "      <th>Loan_Status</th>\n",
       "    </tr>\n",
       "  </thead>\n",
       "  <tbody>\n",
       "    <tr>\n",
       "      <th>0</th>\n",
       "      <td>LP002051</td>\n",
       "      <td>Male</td>\n",
       "      <td>Yes</td>\n",
       "      <td>0</td>\n",
       "      <td>Graduate</td>\n",
       "      <td>No</td>\n",
       "      <td>2400</td>\n",
       "      <td>2167.0</td>\n",
       "      <td>115.0</td>\n",
       "      <td>360.0</td>\n",
       "      <td>1.0</td>\n",
       "      <td>Semiurban</td>\n",
       "      <td>Y</td>\n",
       "    </tr>\n",
       "    <tr>\n",
       "      <th>1</th>\n",
       "      <td>LP002255</td>\n",
       "      <td>Male</td>\n",
       "      <td>No</td>\n",
       "      <td>3+</td>\n",
       "      <td>Graduate</td>\n",
       "      <td>No</td>\n",
       "      <td>9167</td>\n",
       "      <td>0.0</td>\n",
       "      <td>185.0</td>\n",
       "      <td>360.0</td>\n",
       "      <td>1.0</td>\n",
       "      <td>Rural</td>\n",
       "      <td>Y</td>\n",
       "    </tr>\n",
       "    <tr>\n",
       "      <th>2</th>\n",
       "      <td>LP002877</td>\n",
       "      <td>Male</td>\n",
       "      <td>Yes</td>\n",
       "      <td>1</td>\n",
       "      <td>Graduate</td>\n",
       "      <td>No</td>\n",
       "      <td>1782</td>\n",
       "      <td>2232.0</td>\n",
       "      <td>107.0</td>\n",
       "      <td>360.0</td>\n",
       "      <td>1.0</td>\n",
       "      <td>Rural</td>\n",
       "      <td>Y</td>\n",
       "    </tr>\n",
       "    <tr>\n",
       "      <th>3</th>\n",
       "      <td>LP002931</td>\n",
       "      <td>Male</td>\n",
       "      <td>Yes</td>\n",
       "      <td>2</td>\n",
       "      <td>Graduate</td>\n",
       "      <td>Yes</td>\n",
       "      <td>6000</td>\n",
       "      <td>0.0</td>\n",
       "      <td>205.0</td>\n",
       "      <td>240.0</td>\n",
       "      <td>1.0</td>\n",
       "      <td>Semiurban</td>\n",
       "      <td>N</td>\n",
       "    </tr>\n",
       "    <tr>\n",
       "      <th>4</th>\n",
       "      <td>LP002743</td>\n",
       "      <td>Female</td>\n",
       "      <td>No</td>\n",
       "      <td>0</td>\n",
       "      <td>Graduate</td>\n",
       "      <td>No</td>\n",
       "      <td>2138</td>\n",
       "      <td>0.0</td>\n",
       "      <td>99.0</td>\n",
       "      <td>360.0</td>\n",
       "      <td>0.0</td>\n",
       "      <td>Semiurban</td>\n",
       "      <td>N</td>\n",
       "    </tr>\n",
       "  </tbody>\n",
       "</table>\n",
       "</div>"
      ],
      "text/plain": [
       "    Loan_ID  Gender Married Dependents Education Self_Employed  \\\n",
       "0  LP002051    Male     Yes          0  Graduate            No   \n",
       "1  LP002255    Male      No         3+  Graduate            No   \n",
       "2  LP002877    Male     Yes          1  Graduate            No   \n",
       "3  LP002931    Male     Yes          2  Graduate           Yes   \n",
       "4  LP002743  Female      No          0  Graduate            No   \n",
       "\n",
       "   ApplicantIncome  CoapplicantIncome  LoanAmount  Loan_Amount_Term  \\\n",
       "0             2400             2167.0       115.0             360.0   \n",
       "1             9167                0.0       185.0             360.0   \n",
       "2             1782             2232.0       107.0             360.0   \n",
       "3             6000                0.0       205.0             240.0   \n",
       "4             2138                0.0        99.0             360.0   \n",
       "\n",
       "   Credit_History Property_Area Loan_Status  \n",
       "0             1.0     Semiurban           Y  \n",
       "1             1.0         Rural           Y  \n",
       "2             1.0         Rural           Y  \n",
       "3             1.0     Semiurban           N  \n",
       "4             0.0     Semiurban           N  "
      ]
     },
     "execution_count": 5,
     "metadata": {},
     "output_type": "execute_result"
    }
   ],
   "source": [
    "train.head()"
   ]
  },
  {
   "cell_type": "code",
   "execution_count": 6,
   "id": "fe8ec591",
   "metadata": {},
   "outputs": [],
   "source": [
    "for i in train.columns[1:-2]:\n",
    "    if train[i].dtype == 'object':\n",
    "        train[i].fillna(train[i].mode()[0],inplace = True)\n",
    "train[\"Loan_Amount_Term\"].fillna(train[\"Loan_Amount_Term\"].mode()[0],inplace = True)"
   ]
  },
  {
   "cell_type": "markdown",
   "id": "c065c57d",
   "metadata": {},
   "source": [
    "> - Credit history is more impact feature to classify the load status. But there is aroun `9%` null values in credit history. We can try to fill the NA values using KNN imputation or any ML algorithm."
   ]
  },
  {
   "cell_type": "code",
   "execution_count": 7,
   "id": "09e9d38b",
   "metadata": {},
   "outputs": [
    {
     "name": "stderr",
     "output_type": "stream",
     "text": [
      "C:\\ProgramData\\Anaconda3\\lib\\site-packages\\seaborn\\_decorators.py:36: FutureWarning: Pass the following variable as a keyword arg: x. From version 0.12, the only valid positional argument will be `data`, and passing other arguments without an explicit keyword will result in an error or misinterpretation.\n",
      "  warnings.warn(\n"
     ]
    },
    {
     "data": {
      "text/plain": [
       "<AxesSubplot:xlabel='Self_Employed', ylabel='count'>"
      ]
     },
     "execution_count": 7,
     "metadata": {},
     "output_type": "execute_result"
    },
    {
     "data": {
      "image/png": "[encoded data removed]",
      "text/plain": [
       "<Figure size 640x480 with 1 Axes>"
      ]
     },
     "metadata": {},
     "output_type": "display_data"
    }
   ],
   "source": [
    "sns.countplot(train.Self_Employed,hue=train.Loan_Status)"
   ]
  },
  {
   "cell_type": "code",
   "execution_count": 8,
   "id": "ce3ad4a7",
   "metadata": {},
   "outputs": [
    {
     "name": "stderr",
     "output_type": "stream",
     "text": [
      "C:\\ProgramData\\Anaconda3\\lib\\site-packages\\seaborn\\_decorators.py:36: FutureWarning: Pass the following variable as a keyword arg: x. From version 0.12, the only valid positional argument will be `data`, and passing other arguments without an explicit keyword will result in an error or misinterpretation.\n",
      "  warnings.warn(\n"
     ]
    },
    {
     "data": {
      "text/plain": [
       "<AxesSubplot:xlabel='Property_Area', ylabel='count'>"
      ]
     },
     "execution_count": 8,
     "metadata": {},
     "output_type": "execute_result"
    },
    {
     "data": {
      "image/png": "[encoded data removed]",
      "text/plain": [
       "<Figure size 640x480 with 1 Axes>"
      ]
     },
     "metadata": {},
     "output_type": "display_data"
    }
   ],
   "source": [
    "sns.countplot(train.Property_Area,hue=train.Loan_Status)"
   ]
  },
  {
   "cell_type": "code",
   "execution_count": 9,
   "id": "a0f829a1",
   "metadata": {},
   "outputs": [],
   "source": [
    "train = pd.concat([train,pd.get_dummies(train.Gender,prefix='Gender')],axis=1)\n",
    "train = pd.concat([train,pd.get_dummies(train.Married,prefix='Married')],axis=1)\n",
    "train.drop(['Gender','Married'],axis=1,inplace=True)"
   ]
  },
  {
   "cell_type": "code",
   "execution_count": 10,
   "id": "8e605772",
   "metadata": {},
   "outputs": [],
   "source": [
    "train['FamilyIncome'] = train['ApplicantIncome'] + train['CoapplicantIncome']"
   ]
  },
  {
   "cell_type": "code",
   "execution_count": 11,
   "id": "ac31a179",
   "metadata": {},
   "outputs": [
    {
     "data": {
      "text/html": [
       "<div>\n",
       "<style scoped>\n",
       "    .dataframe tbody tr th:only-of-type {\n",
       "        vertical-align: middle;\n",
       "    }\n",
       "\n",
       "    .dataframe tbody tr th {\n",
       "        vertical-align: top;\n",
       "    }\n",
       "\n",
       "    .dataframe thead th {\n",
       "        text-align: right;\n",
       "    }\n",
       "</style>\n",
       "<table border=\"1\" class=\"dataframe\">\n",
       "  <thead>\n",
       "    <tr style=\"text-align: right;\">\n",
       "      <th></th>\n",
       "      <th>Loan_ID</th>\n",
       "      <th>Dependents</th>\n",
       "      <th>Education</th>\n",
       "      <th>Self_Employed</th>\n",
       "      <th>ApplicantIncome</th>\n",
       "      <th>CoapplicantIncome</th>\n",
       "      <th>LoanAmount</th>\n",
       "      <th>Loan_Amount_Term</th>\n",
       "      <th>Credit_History</th>\n",
       "      <th>Property_Area</th>\n",
       "      <th>Loan_Status</th>\n",
       "      <th>Gender_Female</th>\n",
       "      <th>Gender_Male</th>\n",
       "      <th>Married_No</th>\n",
       "      <th>Married_Yes</th>\n",
       "      <th>FamilyIncome</th>\n",
       "    </tr>\n",
       "  </thead>\n",
       "  <tbody>\n",
       "    <tr>\n",
       "      <th>0</th>\n",
       "      <td>LP002051</td>\n",
       "      <td>0</td>\n",
       "      <td>Graduate</td>\n",
       "      <td>No</td>\n",
       "      <td>2400</td>\n",
       "      <td>2167.0</td>\n",
       "      <td>115.0</td>\n",
       "      <td>360.0</td>\n",
       "      <td>1.0</td>\n",
       "      <td>Semiurban</td>\n",
       "      <td>Y</td>\n",
       "      <td>0</td>\n",
       "      <td>1</td>\n",
       "      <td>0</td>\n",
       "      <td>1</td>\n",
       "      <td>4567.0</td>\n",
       "    </tr>\n",
       "    <tr>\n",
       "      <th>1</th>\n",
       "      <td>LP002255</td>\n",
       "      <td>3+</td>\n",
       "      <td>Graduate</td>\n",
       "      <td>No</td>\n",
       "      <td>9167</td>\n",
       "      <td>0.0</td>\n",
       "      <td>185.0</td>\n",
       "      <td>360.0</td>\n",
       "      <td>1.0</td>\n",
       "      <td>Rural</td>\n",
       "      <td>Y</td>\n",
       "      <td>0</td>\n",
       "      <td>1</td>\n",
       "      <td>1</td>\n",
       "      <td>0</td>\n",
       "      <td>9167.0</td>\n",
       "    </tr>\n",
       "    <tr>\n",
       "      <th>2</th>\n",
       "      <td>LP002877</td>\n",
       "      <td>1</td>\n",
       "      <td>Graduate</td>\n",
       "      <td>No</td>\n",
       "      <td>1782</td>\n",
       "      <td>2232.0</td>\n",
       "      <td>107.0</td>\n",
       "      <td>360.0</td>\n",
       "      <td>1.0</td>\n",
       "      <td>Rural</td>\n",
       "      <td>Y</td>\n",
       "      <td>0</td>\n",
       "      <td>1</td>\n",
       "      <td>0</td>\n",
       "      <td>1</td>\n",
       "      <td>4014.0</td>\n",
       "    </tr>\n",
       "    <tr>\n",
       "      <th>3</th>\n",
       "      <td>LP002931</td>\n",
       "      <td>2</td>\n",
       "      <td>Graduate</td>\n",
       "      <td>Yes</td>\n",
       "      <td>6000</td>\n",
       "      <td>0.0</td>\n",
       "      <td>205.0</td>\n",
       "      <td>240.0</td>\n",
       "      <td>1.0</td>\n",
       "      <td>Semiurban</td>\n",
       "      <td>N</td>\n",
       "      <td>0</td>\n",
       "      <td>1</td>\n",
       "      <td>0</td>\n",
       "      <td>1</td>\n",
       "      <td>6000.0</td>\n",
       "    </tr>\n",
       "    <tr>\n",
       "      <th>4</th>\n",
       "      <td>LP002743</td>\n",
       "      <td>0</td>\n",
       "      <td>Graduate</td>\n",
       "      <td>No</td>\n",
       "      <td>2138</td>\n",
       "      <td>0.0</td>\n",
       "      <td>99.0</td>\n",
       "      <td>360.0</td>\n",
       "      <td>0.0</td>\n",
       "      <td>Semiurban</td>\n",
       "      <td>N</td>\n",
       "      <td>1</td>\n",
       "      <td>0</td>\n",
       "      <td>1</td>\n",
       "      <td>0</td>\n",
       "      <td>2138.0</td>\n",
       "    </tr>\n",
       "  </tbody>\n",
       "</table>\n",
       "</div>"
      ],
      "text/plain": [
       "    Loan_ID Dependents Education Self_Employed  ApplicantIncome  \\\n",
       "0  LP002051          0  Graduate            No             2400   \n",
       "1  LP002255         3+  Graduate            No             9167   \n",
       "2  LP002877          1  Graduate            No             1782   \n",
       "3  LP002931          2  Graduate           Yes             6000   \n",
       "4  LP002743          0  Graduate            No             2138   \n",
       "\n",
       "   CoapplicantIncome  LoanAmount  Loan_Amount_Term  Credit_History  \\\n",
       "0             2167.0       115.0             360.0             1.0   \n",
       "1                0.0       185.0             360.0             1.0   \n",
       "2             2232.0       107.0             360.0             1.0   \n",
       "3                0.0       205.0             240.0             1.0   \n",
       "4                0.0        99.0             360.0             0.0   \n",
       "\n",
       "  Property_Area Loan_Status  Gender_Female  Gender_Male  Married_No  \\\n",
       "0     Semiurban           Y              0            1           0   \n",
       "1         Rural           Y              0            1           1   \n",
       "2         Rural           Y              0            1           0   \n",
       "3     Semiurban           N              0            1           0   \n",
       "4     Semiurban           N              1            0           1   \n",
       "\n",
       "   Married_Yes  FamilyIncome  \n",
       "0            1        4567.0  \n",
       "1            0        9167.0  \n",
       "2            1        4014.0  \n",
       "3            1        6000.0  \n",
       "4            0        2138.0  "
      ]
     },
     "execution_count": 11,
     "metadata": {},
     "output_type": "execute_result"
    }
   ],
   "source": [
    "train.head()"
   ]
  },
  {
   "cell_type": "code",
   "execution_count": 12,
   "id": "9824bd78",
   "metadata": {},
   "outputs": [],
   "source": [
    "dep_map = {'0':0,'1':1,'2':2,'3+':4}\n",
    "self_emp = {'Yes':1,'No':0}\n",
    "grad = {'Graduate':1,'Not Graduate':0}\n",
    "prp_area = {'Urban':2,'Semiurban':1,'Rural':0}\n",
    "loan_sts = {'Y':1,'N':0}\n",
    "loan_term = {480:480/12, 360:360/12, 300:300/12, 240:240/12, 180:180/12, 120:120/12, 84:84/12, 60:60/12, 36:36/12, 12:12/12}"
   ]
  },
  {
   "cell_type": "code",
   "execution_count": 13,
   "id": "ea3c089c",
   "metadata": {},
   "outputs": [],
   "source": [
    "train.Dependents = train.Dependents.map(dep_map)\n",
    "train.Self_Employed = train.Self_Employed.map(self_emp)\n",
    "train.Education = train.Education.map(grad)\n",
    "train.Property_Area = train.Property_Area.map(prp_area)\n",
    "train.Loan_Status = train.Loan_Status.map(loan_sts)\n",
    "train.Loan_Amount_Term = train.Loan_Amount_Term.map(loan_term)"
   ]
  },
  {
   "cell_type": "code",
   "execution_count": 14,
   "id": "a103fc84",
   "metadata": {},
   "outputs": [
    {
     "data": {
      "text/html": [
       "<div>\n",
       "<style scoped>\n",
       "    .dataframe tbody tr th:only-of-type {\n",
       "        vertical-align: middle;\n",
       "    }\n",
       "\n",
       "    .dataframe tbody tr th {\n",
       "        vertical-align: top;\n",
       "    }\n",
       "\n",
       "    .dataframe thead th {\n",
       "        text-align: right;\n",
       "    }\n",
       "</style>\n",
       "<table border=\"1\" class=\"dataframe\">\n",
       "  <thead>\n",
       "    <tr style=\"text-align: right;\">\n",
       "      <th></th>\n",
       "      <th>Loan_ID</th>\n",
       "      <th>Dependents</th>\n",
       "      <th>Education</th>\n",
       "      <th>Self_Employed</th>\n",
       "      <th>ApplicantIncome</th>\n",
       "      <th>CoapplicantIncome</th>\n",
       "      <th>LoanAmount</th>\n",
       "      <th>Loan_Amount_Term</th>\n",
       "      <th>Credit_History</th>\n",
       "      <th>Property_Area</th>\n",
       "      <th>Loan_Status</th>\n",
       "      <th>Gender_Female</th>\n",
       "      <th>Gender_Male</th>\n",
       "      <th>Married_No</th>\n",
       "      <th>Married_Yes</th>\n",
       "      <th>FamilyIncome</th>\n",
       "    </tr>\n",
       "  </thead>\n",
       "  <tbody>\n",
       "    <tr>\n",
       "      <th>0</th>\n",
       "      <td>LP002051</td>\n",
       "      <td>0</td>\n",
       "      <td>1</td>\n",
       "      <td>0</td>\n",
       "      <td>2400</td>\n",
       "      <td>2167.0</td>\n",
       "      <td>115.0</td>\n",
       "      <td>30.0</td>\n",
       "      <td>1.0</td>\n",
       "      <td>1</td>\n",
       "      <td>1</td>\n",
       "      <td>0</td>\n",
       "      <td>1</td>\n",
       "      <td>0</td>\n",
       "      <td>1</td>\n",
       "      <td>4567.0</td>\n",
       "    </tr>\n",
       "    <tr>\n",
       "      <th>1</th>\n",
       "      <td>LP002255</td>\n",
       "      <td>4</td>\n",
       "      <td>1</td>\n",
       "      <td>0</td>\n",
       "      <td>9167</td>\n",
       "      <td>0.0</td>\n",
       "      <td>185.0</td>\n",
       "      <td>30.0</td>\n",
       "      <td>1.0</td>\n",
       "      <td>0</td>\n",
       "      <td>1</td>\n",
       "      <td>0</td>\n",
       "      <td>1</td>\n",
       "      <td>1</td>\n",
       "      <td>0</td>\n",
       "      <td>9167.0</td>\n",
       "    </tr>\n",
       "    <tr>\n",
       "      <th>2</th>\n",
       "      <td>LP002877</td>\n",
       "      <td>1</td>\n",
       "      <td>1</td>\n",
       "      <td>0</td>\n",
       "      <td>1782</td>\n",
       "      <td>2232.0</td>\n",
       "      <td>107.0</td>\n",
       "      <td>30.0</td>\n",
       "      <td>1.0</td>\n",
       "      <td>0</td>\n",
       "      <td>1</td>\n",
       "      <td>0</td>\n",
       "      <td>1</td>\n",
       "      <td>0</td>\n",
       "      <td>1</td>\n",
       "      <td>4014.0</td>\n",
       "    </tr>\n",
       "    <tr>\n",
       "      <th>3</th>\n",
       "      <td>LP002931</td>\n",
       "      <td>2</td>\n",
       "      <td>1</td>\n",
       "      <td>1</td>\n",
       "      <td>6000</td>\n",
       "      <td>0.0</td>\n",
       "      <td>205.0</td>\n",
       "      <td>20.0</td>\n",
       "      <td>1.0</td>\n",
       "      <td>1</td>\n",
       "      <td>0</td>\n",
       "      <td>0</td>\n",
       "      <td>1</td>\n",
       "      <td>0</td>\n",
       "      <td>1</td>\n",
       "      <td>6000.0</td>\n",
       "    </tr>\n",
       "    <tr>\n",
       "      <th>4</th>\n",
       "      <td>LP002743</td>\n",
       "      <td>0</td>\n",
       "      <td>1</td>\n",
       "      <td>0</td>\n",
       "      <td>2138</td>\n",
       "      <td>0.0</td>\n",
       "      <td>99.0</td>\n",
       "      <td>30.0</td>\n",
       "      <td>0.0</td>\n",
       "      <td>1</td>\n",
       "      <td>0</td>\n",
       "      <td>1</td>\n",
       "      <td>0</td>\n",
       "      <td>1</td>\n",
       "      <td>0</td>\n",
       "      <td>2138.0</td>\n",
       "    </tr>\n",
       "    <tr>\n",
       "      <th>...</th>\n",
       "      <td>...</td>\n",
       "      <td>...</td>\n",
       "      <td>...</td>\n",
       "      <td>...</td>\n",
       "      <td>...</td>\n",
       "      <td>...</td>\n",
       "      <td>...</td>\n",
       "      <td>...</td>\n",
       "      <td>...</td>\n",
       "      <td>...</td>\n",
       "      <td>...</td>\n",
       "      <td>...</td>\n",
       "      <td>...</td>\n",
       "      <td>...</td>\n",
       "      <td>...</td>\n",
       "      <td>...</td>\n",
       "    </tr>\n",
       "    <tr>\n",
       "      <th>486</th>\n",
       "      <td>LP002888</td>\n",
       "      <td>0</td>\n",
       "      <td>1</td>\n",
       "      <td>0</td>\n",
       "      <td>3182</td>\n",
       "      <td>2917.0</td>\n",
       "      <td>161.0</td>\n",
       "      <td>30.0</td>\n",
       "      <td>1.0</td>\n",
       "      <td>2</td>\n",
       "      <td>1</td>\n",
       "      <td>0</td>\n",
       "      <td>1</td>\n",
       "      <td>1</td>\n",
       "      <td>0</td>\n",
       "      <td>6099.0</td>\n",
       "    </tr>\n",
       "    <tr>\n",
       "      <th>487</th>\n",
       "      <td>LP002615</td>\n",
       "      <td>2</td>\n",
       "      <td>1</td>\n",
       "      <td>0</td>\n",
       "      <td>4865</td>\n",
       "      <td>5624.0</td>\n",
       "      <td>208.0</td>\n",
       "      <td>30.0</td>\n",
       "      <td>1.0</td>\n",
       "      <td>1</td>\n",
       "      <td>1</td>\n",
       "      <td>0</td>\n",
       "      <td>1</td>\n",
       "      <td>0</td>\n",
       "      <td>1</td>\n",
       "      <td>10489.0</td>\n",
       "    </tr>\n",
       "    <tr>\n",
       "      <th>488</th>\n",
       "      <td>LP002738</td>\n",
       "      <td>2</td>\n",
       "      <td>1</td>\n",
       "      <td>0</td>\n",
       "      <td>3617</td>\n",
       "      <td>0.0</td>\n",
       "      <td>107.0</td>\n",
       "      <td>30.0</td>\n",
       "      <td>1.0</td>\n",
       "      <td>1</td>\n",
       "      <td>1</td>\n",
       "      <td>0</td>\n",
       "      <td>1</td>\n",
       "      <td>1</td>\n",
       "      <td>0</td>\n",
       "      <td>3617.0</td>\n",
       "    </tr>\n",
       "    <tr>\n",
       "      <th>489</th>\n",
       "      <td>LP001666</td>\n",
       "      <td>0</td>\n",
       "      <td>1</td>\n",
       "      <td>0</td>\n",
       "      <td>8333</td>\n",
       "      <td>3750.0</td>\n",
       "      <td>187.0</td>\n",
       "      <td>30.0</td>\n",
       "      <td>1.0</td>\n",
       "      <td>0</td>\n",
       "      <td>1</td>\n",
       "      <td>0</td>\n",
       "      <td>1</td>\n",
       "      <td>1</td>\n",
       "      <td>0</td>\n",
       "      <td>12083.0</td>\n",
       "    </tr>\n",
       "    <tr>\n",
       "      <th>490</th>\n",
       "      <td>LP001606</td>\n",
       "      <td>0</td>\n",
       "      <td>1</td>\n",
       "      <td>0</td>\n",
       "      <td>3497</td>\n",
       "      <td>1964.0</td>\n",
       "      <td>116.0</td>\n",
       "      <td>30.0</td>\n",
       "      <td>1.0</td>\n",
       "      <td>0</td>\n",
       "      <td>1</td>\n",
       "      <td>0</td>\n",
       "      <td>1</td>\n",
       "      <td>0</td>\n",
       "      <td>1</td>\n",
       "      <td>5461.0</td>\n",
       "    </tr>\n",
       "  </tbody>\n",
       "</table>\n",
       "<p>491 rows × 16 columns</p>\n",
       "</div>"
      ],
      "text/plain": [
       "      Loan_ID  Dependents  Education  Self_Employed  ApplicantIncome  \\\n",
       "0    LP002051           0          1              0             2400   \n",
       "1    LP002255           4          1              0             9167   \n",
       "2    LP002877           1          1              0             1782   \n",
       "3    LP002931           2          1              1             6000   \n",
       "4    LP002743           0          1              0             2138   \n",
       "..        ...         ...        ...            ...              ...   \n",
       "486  LP002888           0          1              0             3182   \n",
       "487  LP002615           2          1              0             4865   \n",
       "488  LP002738           2          1              0             3617   \n",
       "489  LP001666           0          1              0             8333   \n",
       "490  LP001606           0          1              0             3497   \n",
       "\n",
       "     CoapplicantIncome  LoanAmount  Loan_Amount_Term  Credit_History  \\\n",
       "0               2167.0       115.0              30.0             1.0   \n",
       "1                  0.0       185.0              30.0             1.0   \n",
       "2               2232.0       107.0              30.0             1.0   \n",
       "3                  0.0       205.0              20.0             1.0   \n",
       "4                  0.0        99.0              30.0             0.0   \n",
       "..                 ...         ...               ...             ...   \n",
       "486             2917.0       161.0              30.0             1.0   \n",
       "487             5624.0       208.0              30.0             1.0   \n",
       "488                0.0       107.0              30.0             1.0   \n",
       "489             3750.0       187.0              30.0             1.0   \n",
       "490             1964.0       116.0              30.0             1.0   \n",
       "\n",
       "     Property_Area  Loan_Status  Gender_Female  Gender_Male  Married_No  \\\n",
       "0                1            1              0            1           0   \n",
       "1                0            1              0            1           1   \n",
       "2                0            1              0            1           0   \n",
       "3                1            0              0            1           0   \n",
       "4                1            0              1            0           1   \n",
       "..             ...          ...            ...          ...         ...   \n",
       "486              2            1              0            1           1   \n",
       "487              1            1              0            1           0   \n",
       "488              1            1              0            1           1   \n",
       "489              0            1              0            1           1   \n",
       "490              0            1              0            1           0   \n",
       "\n",
       "     Married_Yes  FamilyIncome  \n",
       "0              1        4567.0  \n",
       "1              0        9167.0  \n",
       "2              1        4014.0  \n",
       "3              1        6000.0  \n",
       "4              0        2138.0  \n",
       "..           ...           ...  \n",
       "486            0        6099.0  \n",
       "487            1       10489.0  \n",
       "488            0        3617.0  \n",
       "489            0       12083.0  \n",
       "490            1        5461.0  \n",
       "\n",
       "[491 rows x 16 columns]"
      ]
     },
     "execution_count": 14,
     "metadata": {},
     "output_type": "execute_result"
    }
   ],
   "source": [
    "train"
   ]
  },
  {
   "cell_type": "code",
   "execution_count": 15,
   "id": "2c4c2d25",
   "metadata": {},
   "outputs": [
    {
     "name": "stdout",
     "output_type": "stream",
     "text": [
      "NA value ratio in Dependents\n",
      "0.0 % \n",
      "\n",
      "NA value ratio in Education\n",
      "0.0 % \n",
      "\n",
      "NA value ratio in Self_Employed\n",
      "0.0 % \n",
      "\n",
      "NA value ratio in ApplicantIncome\n",
      "0.0 % \n",
      "\n",
      "NA value ratio in CoapplicantIncome\n",
      "0.0 % \n",
      "\n",
      "NA value ratio in LoanAmount\n",
      "3.462321792260693 % \n",
      "\n",
      "NA value ratio in Loan_Amount_Term\n",
      "0.0 % \n",
      "\n",
      "NA value ratio in Credit_History\n",
      "8.961303462321792 % \n",
      "\n",
      "NA value ratio in Property_Area\n",
      "0.0 % \n",
      "\n",
      "NA value ratio in Loan_Status\n",
      "0.0 % \n",
      "\n",
      "NA value ratio in Gender_Female\n",
      "0.0 % \n",
      "\n",
      "NA value ratio in Gender_Male\n",
      "0.0 % \n",
      "\n",
      "NA value ratio in Married_No\n",
      "0.0 % \n",
      "\n"
     ]
    }
   ],
   "source": [
    "for i in train.columns[1:-2]:\n",
    "    print(f\"NA value ratio in {i}\")\n",
    "    print((len(train[train[i].isna()])/train.shape[0])*100,'%' ,\"\\n\")"
   ]
  },
  {
   "cell_type": "code",
   "execution_count": 16,
   "id": "d64cf7c5",
   "metadata": {},
   "outputs": [],
   "source": [
    "train.Credit_History = train.Credit_History.astype('object')"
   ]
  },
  {
   "cell_type": "code",
   "execution_count": 17,
   "id": "8486a636",
   "metadata": {},
   "outputs": [
    {
     "name": "stdout",
     "output_type": "stream",
     "text": [
      "<class 'pandas.core.frame.DataFrame'>\n",
      "RangeIndex: 491 entries, 0 to 490\n",
      "Data columns (total 16 columns):\n",
      " #   Column             Non-Null Count  Dtype  \n",
      "---  ------             --------------  -----  \n",
      " 0   Loan_ID            491 non-null    object \n",
      " 1   Dependents         491 non-null    int64  \n",
      " 2   Education          491 non-null    int64  \n",
      " 3   Self_Employed      491 non-null    int64  \n",
      " 4   ApplicantIncome    491 non-null    int64  \n",
      " 5   CoapplicantIncome  491 non-null    float64\n",
      " 6   LoanAmount         474 non-null    float64\n",
      " 7   Loan_Amount_Term   491 non-null    float64\n",
      " 8   Credit_History     447 non-null    object \n",
      " 9   Property_Area      491 non-null    int64  \n",
      " 10  Loan_Status        491 non-null    int64  \n",
      " 11  Gender_Female      491 non-null    uint8  \n",
      " 12  Gender_Male        491 non-null    uint8  \n",
      " 13  Married_No         491 non-null    uint8  \n",
      " 14  Married_Yes        491 non-null    uint8  \n",
      " 15  FamilyIncome       491 non-null    float64\n",
      "dtypes: float64(4), int64(6), object(2), uint8(4)\n",
      "memory usage: 48.1+ KB\n"
     ]
    }
   ],
   "source": [
    "train.info()"
   ]
  },
  {
   "cell_type": "code",
   "execution_count": 18,
   "id": "16205b3d",
   "metadata": {},
   "outputs": [],
   "source": [
    "from sklearn.impute import KNNImputer\n",
    "imputer = KNNImputer(n_neighbors=3)\n",
    "df_filled = imputer.fit_transform(train[['Credit_History']])"
   ]
  },
  {
   "cell_type": "code",
   "execution_count": 19,
   "id": "f73a51da",
   "metadata": {},
   "outputs": [],
   "source": [
    "ch_arr = [1 if i > 0 else 0 for i in df_filled]"
   ]
  },
  {
   "cell_type": "code",
   "execution_count": 20,
   "id": "1fdcf3a2",
   "metadata": {},
   "outputs": [],
   "source": [
    "train.Credit_History = ch_arr"
   ]
  },
  {
   "cell_type": "markdown",
   "id": "b5c42634",
   "metadata": {},
   "source": [
    "# To fill the NaN in LoanAmount "
   ]
  },
  {
   "cell_type": "code",
   "execution_count": 21,
   "id": "d332fe43",
   "metadata": {},
   "outputs": [
    {
     "name": "stderr",
     "output_type": "stream",
     "text": [
      "C:\\ProgramData\\Anaconda3\\lib\\site-packages\\seaborn\\distributions.py:2619: FutureWarning: `distplot` is a deprecated function and will be removed in a future version. Please adapt your code to use either `displot` (a figure-level function with similar flexibility) or `histplot` (an axes-level function for histograms).\n",
      "  warnings.warn(msg, FutureWarning)\n"
     ]
    },
    {
     "data": {
      "text/plain": [
       "<AxesSubplot:xlabel='FamilyIncome', ylabel='Density'>"
      ]
     },
     "execution_count": 21,
     "metadata": {},
     "output_type": "execute_result"
    },
    {
     "data": {
      "image/png": "[encoded data removed]",
      "text/plain": [
       "<Figure size 640x480 with 1 Axes>"
      ]
     },
     "metadata": {},
     "output_type": "display_data"
    }
   ],
   "source": [
    "sns.distplot(np.log(train.FamilyIncome))"
   ]
  },
  {
   "cell_type": "code",
   "execution_count": 22,
   "id": "3a66a8ec",
   "metadata": {},
   "outputs": [
    {
     "name": "stderr",
     "output_type": "stream",
     "text": [
      "C:\\ProgramData\\Anaconda3\\lib\\site-packages\\seaborn\\_decorators.py:36: FutureWarning: Pass the following variables as keyword args: x, y. From version 0.12, the only valid positional argument will be `data`, and passing other arguments without an explicit keyword will result in an error or misinterpretation.\n",
      "  warnings.warn(\n"
     ]
    },
    {
     "data": {
      "text/plain": [
       "<AxesSubplot:xlabel='FamilyIncome', ylabel='LoanAmount'>"
      ]
     },
     "execution_count": 22,
     "metadata": {},
     "output_type": "execute_result"
    },
    {
     "data": {
      "image/png": "[encoded data removed]",
      "text/plain": [
       "<Figure size 640x480 with 1 Axes>"
      ]
     },
     "metadata": {},
     "output_type": "display_data"
    }
   ],
   "source": [
    "sns.regplot(np.log((train.FamilyIncome)),np.log(train.LoanAmount))"
   ]
  },
  {
   "cell_type": "code",
   "execution_count": 23,
   "id": "952b42b0",
   "metadata": {},
   "outputs": [],
   "source": [
    "from sklearn.linear_model import LinearRegression"
   ]
  },
  {
   "cell_type": "code",
   "execution_count": 24,
   "id": "8c33bc68",
   "metadata": {},
   "outputs": [],
   "source": [
    "test_index = train[train['LoanAmount'].isna()].index"
   ]
  },
  {
   "cell_type": "code",
   "execution_count": 25,
   "id": "14915fa4",
   "metadata": {},
   "outputs": [
    {
     "data": {
      "text/plain": [
       "LinearRegression()"
      ]
     },
     "execution_count": 25,
     "metadata": {},
     "output_type": "execute_result"
    }
   ],
   "source": [
    "train_X = np.log(train[~train.index.isin(test_index)]['FamilyIncome'])\n",
    "test_X = np.log(train[train.index.isin(test_index)]['FamilyIncome'])\n",
    "\n",
    "train_y = np.log(train[~train['LoanAmount'].isna()]['LoanAmount'])\n",
    "test_y = train[train['LoanAmount'].isna()]['LoanAmount']\n",
    "\n",
    "lr = LinearRegression()\n",
    "lr.fit(np.array(train_X).reshape(-1, 1),np.array(train_y).reshape(-1, 1))"
   ]
  },
  {
   "cell_type": "code",
   "execution_count": 26,
   "id": "6fd4568d",
   "metadata": {},
   "outputs": [],
   "source": [
    "train.loc[train.index.isin(test_index),'LoanAmount'] = np.exp(lr.predict(np.array(test_X).reshape(-1,1)))"
   ]
  },
  {
   "cell_type": "code",
   "execution_count": 27,
   "id": "f508c2e2",
   "metadata": {},
   "outputs": [
    {
     "name": "stdout",
     "output_type": "stream",
     "text": [
      "<class 'pandas.core.frame.DataFrame'>\n",
      "RangeIndex: 491 entries, 0 to 490\n",
      "Data columns (total 16 columns):\n",
      " #   Column             Non-Null Count  Dtype  \n",
      "---  ------             --------------  -----  \n",
      " 0   Loan_ID            491 non-null    object \n",
      " 1   Dependents         491 non-null    int64  \n",
      " 2   Education          491 non-null    int64  \n",
      " 3   Self_Employed      491 non-null    int64  \n",
      " 4   ApplicantIncome    491 non-null    int64  \n",
      " 5   CoapplicantIncome  491 non-null    float64\n",
      " 6   LoanAmount         491 non-null    float64\n",
      " 7   Loan_Amount_Term   491 non-null    float64\n",
      " 8   Credit_History     491 non-null    int64  \n",
      " 9   Property_Area      491 non-null    int64  \n",
      " 10  Loan_Status        491 non-null    int64  \n",
      " 11  Gender_Female      491 non-null    uint8  \n",
      " 12  Gender_Male        491 non-null    uint8  \n",
      " 13  Married_No         491 non-null    uint8  \n",
      " 14  Married_Yes        491 non-null    uint8  \n",
      " 15  FamilyIncome       491 non-null    float64\n",
      "dtypes: float64(4), int64(7), object(1), uint8(4)\n",
      "memory usage: 48.1+ KB\n"
     ]
    }
   ],
   "source": [
    "train.info()"
   ]
  },
  {
   "cell_type": "code",
   "execution_count": 28,
   "id": "372b4a5a",
   "metadata": {},
   "outputs": [
    {
     "name": "stderr",
     "output_type": "stream",
     "text": [
      "C:\\ProgramData\\Anaconda3\\lib\\site-packages\\seaborn\\_decorators.py:36: FutureWarning: Pass the following variable as a keyword arg: x. From version 0.12, the only valid positional argument will be `data`, and passing other arguments without an explicit keyword will result in an error or misinterpretation.\n",
      "  warnings.warn(\n"
     ]
    },
    {
     "data": {
      "text/plain": [
       "<AxesSubplot:xlabel='Dependents', ylabel='count'>"
      ]
     },
     "execution_count": 28,
     "metadata": {},
     "output_type": "execute_result"
    },
    {
     "data": {
      "image/png": "[encoded data removed]",
      "text/plain": [
       "<Figure size 640x480 with 1 Axes>"
      ]
     },
     "metadata": {},
     "output_type": "display_data"
    }
   ],
   "source": [
    "sns.countplot(train['Dependents'],hue=train['Loan_Status'])"
   ]
  },
  {
   "cell_type": "markdown",
   "id": "cf3fed9f",
   "metadata": {},
   "source": [
    "> - Ratio of Loan accepted to loan rejected is higher of people who doesn't have dependendents, lower for people have 3+ dependents."
   ]
  },
  {
   "cell_type": "code",
   "execution_count": 29,
   "id": "c689cb60",
   "metadata": {},
   "outputs": [],
   "source": [
    "train['IncomePermember'] = np.where(train['Dependents'] != 0, train['FamilyIncome'] / train['Dependents'], train['FamilyIncome'])"
   ]
  },
  {
   "cell_type": "code",
   "execution_count": 30,
   "id": "9146220f",
   "metadata": {},
   "outputs": [
    {
     "data": {
      "text/plain": [
       "<AxesSubplot:xlabel='Self_Employed', ylabel='ApplicantIncome'>"
      ]
     },
     "execution_count": 30,
     "metadata": {},
     "output_type": "execute_result"
    },
    {
     "data": {
      "image/png": "[encoded data removed]",
      "text/plain": [
       "<Figure size 640x480 with 1 Axes>"
      ]
     },
     "metadata": {},
     "output_type": "display_data"
    }
   ],
   "source": [
    "sns.barplot(x=train.Self_Employed,y=train.ApplicantIncome,hue=train.Loan_Status)"
   ]
  },
  {
   "cell_type": "code",
   "execution_count": 31,
   "id": "f60f98c3",
   "metadata": {},
   "outputs": [
    {
     "data": {
      "text/plain": [
       "<AxesSubplot:xlabel='Self_Employed', ylabel='CoapplicantIncome'>"
      ]
     },
     "execution_count": 31,
     "metadata": {},
     "output_type": "execute_result"
    },
    {
     "data": {
      "image/png": "[encoded data removed]",
      "text/plain": [
       "<Figure size 640x480 with 1 Axes>"
      ]
     },
     "metadata": {},
     "output_type": "display_data"
    }
   ],
   "source": [
    "sns.barplot(x=train.Self_Employed,y=train.CoapplicantIncome,hue=train.Loan_Status)"
   ]
  },
  {
   "cell_type": "code",
   "execution_count": 32,
   "id": "1a5cce7a",
   "metadata": {},
   "outputs": [
    {
     "data": {
      "text/plain": [
       "Index(['Loan_ID', 'Dependents', 'Education', 'Self_Employed',\n",
       "       'ApplicantIncome', 'CoapplicantIncome', 'LoanAmount',\n",
       "       'Loan_Amount_Term', 'Credit_History', 'Property_Area', 'Loan_Status',\n",
       "       'Gender_Female', 'Gender_Male', 'Married_No', 'Married_Yes',\n",
       "       'FamilyIncome', 'IncomePermember'],\n",
       "      dtype='object')"
      ]
     },
     "execution_count": 32,
     "metadata": {},
     "output_type": "execute_result"
    }
   ],
   "source": [
    "train.columns"
   ]
  },
  {
   "cell_type": "code",
   "execution_count": 33,
   "id": "235068ea",
   "metadata": {},
   "outputs": [],
   "source": [
    "X = train[['Gender_Female','Gender_Male','Married_No','Married_Yes', 'Education', 'Self_Employed'\n",
    "       ,'Credit_History', 'Property_Area','Loan_Amount_Term','IncomePermember','LoanAmount']]\n",
    "y = train.Loan_Status"
   ]
  },
  {
   "cell_type": "code",
   "execution_count": 34,
   "id": "acd8c28f",
   "metadata": {},
   "outputs": [],
   "source": [
    "from sklearn.model_selection import train_test_split\n",
    "X_train, X_test, y_train, y_test = train_test_split(X, y, test_size=0.2,stratify=y)"
   ]
  },
  {
   "cell_type": "code",
   "execution_count": 35,
   "id": "627e6558",
   "metadata": {},
   "outputs": [],
   "source": [
    "from sklearn.preprocessing import StandardScaler\n",
    "sc = StandardScaler()\n",
    "X_train_ar = sc.fit_transform(X_train.iloc[:,:-2])\n",
    "X_test_ar = sc.transform(X_test.iloc[:,:-2])"
   ]
  },
  {
   "cell_type": "code",
   "execution_count": 36,
   "id": "c6c8bfd5",
   "metadata": {},
   "outputs": [],
   "source": [
    "a = pd.DataFrame(X_train_ar)\n",
    "c = pd.DataFrame(X_test_ar)"
   ]
  },
  {
   "cell_type": "code",
   "execution_count": 37,
   "id": "e2c97279",
   "metadata": {},
   "outputs": [],
   "source": [
    "b = pd.DataFrame(np.log(X_train.iloc[:,-2:]))\n",
    "d = pd.DataFrame(np.log(X_test.iloc[:,-2:]))"
   ]
  },
  {
   "cell_type": "code",
   "execution_count": 38,
   "id": "9e4d3b38",
   "metadata": {},
   "outputs": [],
   "source": [
    "a.reset_index(drop=True,inplace=True)\n",
    "b.reset_index(drop=True,inplace=True)\n",
    "c.reset_index(drop=True,inplace=True)\n",
    "d.reset_index(drop=True,inplace=True)"
   ]
  },
  {
   "cell_type": "code",
   "execution_count": 39,
   "id": "f1bc13f1",
   "metadata": {},
   "outputs": [],
   "source": [
    "X_train = pd.concat([a, b],axis=1)\n",
    "X_test = pd.concat([c, d],axis=1)"
   ]
  },
  {
   "cell_type": "code",
   "execution_count": 40,
   "id": "eacdc6c2",
   "metadata": {},
   "outputs": [
    {
     "data": {
      "text/html": [
       "<div>\n",
       "<style scoped>\n",
       "    .dataframe tbody tr th:only-of-type {\n",
       "        vertical-align: middle;\n",
       "    }\n",
       "\n",
       "    .dataframe tbody tr th {\n",
       "        vertical-align: top;\n",
       "    }\n",
       "\n",
       "    .dataframe thead th {\n",
       "        text-align: right;\n",
       "    }\n",
       "</style>\n",
       "<table border=\"1\" class=\"dataframe\">\n",
       "  <thead>\n",
       "    <tr style=\"text-align: right;\">\n",
       "      <th></th>\n",
       "      <th>0</th>\n",
       "      <th>1</th>\n",
       "      <th>2</th>\n",
       "      <th>3</th>\n",
       "      <th>4</th>\n",
       "      <th>5</th>\n",
       "      <th>6</th>\n",
       "      <th>7</th>\n",
       "      <th>8</th>\n",
       "      <th>IncomePermember</th>\n",
       "      <th>LoanAmount</th>\n",
       "    </tr>\n",
       "  </thead>\n",
       "  <tbody>\n",
       "    <tr>\n",
       "      <th>0</th>\n",
       "      <td>-0.502390</td>\n",
       "      <td>0.502390</td>\n",
       "      <td>-0.741220</td>\n",
       "      <td>0.741220</td>\n",
       "      <td>0.458123</td>\n",
       "      <td>-0.425115</td>\n",
       "      <td>0.416717</td>\n",
       "      <td>-1.321314</td>\n",
       "      <td>0.288241</td>\n",
       "      <td>8.552946</td>\n",
       "      <td>4.682131</td>\n",
       "    </tr>\n",
       "    <tr>\n",
       "      <th>1</th>\n",
       "      <td>-0.502390</td>\n",
       "      <td>0.502390</td>\n",
       "      <td>-0.741220</td>\n",
       "      <td>0.741220</td>\n",
       "      <td>0.458123</td>\n",
       "      <td>-0.425115</td>\n",
       "      <td>-2.399713</td>\n",
       "      <td>-1.321314</td>\n",
       "      <td>0.288241</td>\n",
       "      <td>7.833996</td>\n",
       "      <td>5.010635</td>\n",
       "    </tr>\n",
       "    <tr>\n",
       "      <th>2</th>\n",
       "      <td>-0.502390</td>\n",
       "      <td>0.502390</td>\n",
       "      <td>-0.741220</td>\n",
       "      <td>0.741220</td>\n",
       "      <td>0.458123</td>\n",
       "      <td>-0.425115</td>\n",
       "      <td>0.416717</td>\n",
       "      <td>1.174855</td>\n",
       "      <td>0.288241</td>\n",
       "      <td>9.242808</td>\n",
       "      <td>5.192957</td>\n",
       "    </tr>\n",
       "    <tr>\n",
       "      <th>3</th>\n",
       "      <td>1.990484</td>\n",
       "      <td>-1.990484</td>\n",
       "      <td>1.349127</td>\n",
       "      <td>-1.349127</td>\n",
       "      <td>0.458123</td>\n",
       "      <td>-0.425115</td>\n",
       "      <td>0.416717</td>\n",
       "      <td>-0.073229</td>\n",
       "      <td>0.288241</td>\n",
       "      <td>7.978311</td>\n",
       "      <td>4.430817</td>\n",
       "    </tr>\n",
       "    <tr>\n",
       "      <th>4</th>\n",
       "      <td>1.990484</td>\n",
       "      <td>-1.990484</td>\n",
       "      <td>1.349127</td>\n",
       "      <td>-1.349127</td>\n",
       "      <td>-2.182821</td>\n",
       "      <td>-0.425115</td>\n",
       "      <td>-2.399713</td>\n",
       "      <td>1.174855</td>\n",
       "      <td>0.288241</td>\n",
       "      <td>6.125777</td>\n",
       "      <td>4.146822</td>\n",
       "    </tr>\n",
       "    <tr>\n",
       "      <th>...</th>\n",
       "      <td>...</td>\n",
       "      <td>...</td>\n",
       "      <td>...</td>\n",
       "      <td>...</td>\n",
       "      <td>...</td>\n",
       "      <td>...</td>\n",
       "      <td>...</td>\n",
       "      <td>...</td>\n",
       "      <td>...</td>\n",
       "      <td>...</td>\n",
       "      <td>...</td>\n",
       "    </tr>\n",
       "    <tr>\n",
       "      <th>387</th>\n",
       "      <td>1.990484</td>\n",
       "      <td>-1.990484</td>\n",
       "      <td>1.349127</td>\n",
       "      <td>-1.349127</td>\n",
       "      <td>0.458123</td>\n",
       "      <td>-0.425115</td>\n",
       "      <td>0.416717</td>\n",
       "      <td>-1.321314</td>\n",
       "      <td>0.288241</td>\n",
       "      <td>8.881836</td>\n",
       "      <td>4.787492</td>\n",
       "    </tr>\n",
       "    <tr>\n",
       "      <th>388</th>\n",
       "      <td>-0.502390</td>\n",
       "      <td>0.502390</td>\n",
       "      <td>1.349127</td>\n",
       "      <td>-1.349127</td>\n",
       "      <td>0.458123</td>\n",
       "      <td>-0.425115</td>\n",
       "      <td>0.416717</td>\n",
       "      <td>1.174855</td>\n",
       "      <td>0.288241</td>\n",
       "      <td>9.339261</td>\n",
       "      <td>5.214936</td>\n",
       "    </tr>\n",
       "    <tr>\n",
       "      <th>389</th>\n",
       "      <td>-0.502390</td>\n",
       "      <td>0.502390</td>\n",
       "      <td>-0.741220</td>\n",
       "      <td>0.741220</td>\n",
       "      <td>0.458123</td>\n",
       "      <td>-0.425115</td>\n",
       "      <td>0.416717</td>\n",
       "      <td>-0.073229</td>\n",
       "      <td>0.288241</td>\n",
       "      <td>9.196444</td>\n",
       "      <td>5.164786</td>\n",
       "    </tr>\n",
       "    <tr>\n",
       "      <th>390</th>\n",
       "      <td>-0.502390</td>\n",
       "      <td>0.502390</td>\n",
       "      <td>-0.741220</td>\n",
       "      <td>0.741220</td>\n",
       "      <td>0.458123</td>\n",
       "      <td>-0.425115</td>\n",
       "      <td>0.416717</td>\n",
       "      <td>1.174855</td>\n",
       "      <td>-2.503942</td>\n",
       "      <td>11.056225</td>\n",
       "      <td>6.194405</td>\n",
       "    </tr>\n",
       "    <tr>\n",
       "      <th>391</th>\n",
       "      <td>-0.502390</td>\n",
       "      <td>0.502390</td>\n",
       "      <td>-0.741220</td>\n",
       "      <td>0.741220</td>\n",
       "      <td>-2.182821</td>\n",
       "      <td>-0.425115</td>\n",
       "      <td>-2.399713</td>\n",
       "      <td>-0.073229</td>\n",
       "      <td>0.288241</td>\n",
       "      <td>8.812099</td>\n",
       "      <td>5.081404</td>\n",
       "    </tr>\n",
       "  </tbody>\n",
       "</table>\n",
       "<p>392 rows × 11 columns</p>\n",
       "</div>"
      ],
      "text/plain": [
       "            0         1         2         3         4         5         6  \\\n",
       "0   -0.502390  0.502390 -0.741220  0.741220  0.458123 -0.425115  0.416717   \n",
       "1   -0.502390  0.502390 -0.741220  0.741220  0.458123 -0.425115 -2.399713   \n",
       "2   -0.502390  0.502390 -0.741220  0.741220  0.458123 -0.425115  0.416717   \n",
       "3    1.990484 -1.990484  1.349127 -1.349127  0.458123 -0.425115  0.416717   \n",
       "4    1.990484 -1.990484  1.349127 -1.349127 -2.182821 -0.425115 -2.399713   \n",
       "..        ...       ...       ...       ...       ...       ...       ...   \n",
       "387  1.990484 -1.990484  1.349127 -1.349127  0.458123 -0.425115  0.416717   \n",
       "388 -0.502390  0.502390  1.349127 -1.349127  0.458123 -0.425115  0.416717   \n",
       "389 -0.502390  0.502390 -0.741220  0.741220  0.458123 -0.425115  0.416717   \n",
       "390 -0.502390  0.502390 -0.741220  0.741220  0.458123 -0.425115  0.416717   \n",
       "391 -0.502390  0.502390 -0.741220  0.741220 -2.182821 -0.425115 -2.399713   \n",
       "\n",
       "            7         8  IncomePermember  LoanAmount  \n",
       "0   -1.321314  0.288241         8.552946    4.682131  \n",
       "1   -1.321314  0.288241         7.833996    5.010635  \n",
       "2    1.174855  0.288241         9.242808    5.192957  \n",
       "3   -0.073229  0.288241         7.978311    4.430817  \n",
       "4    1.174855  0.288241         6.125777    4.146822  \n",
       "..        ...       ...              ...         ...  \n",
       "387 -1.321314  0.288241         8.881836    4.787492  \n",
       "388  1.174855  0.288241         9.339261    5.214936  \n",
       "389 -0.073229  0.288241         9.196444    5.164786  \n",
       "390  1.174855 -2.503942        11.056225    6.194405  \n",
       "391 -0.073229  0.288241         8.812099    5.081404  \n",
       "\n",
       "[392 rows x 11 columns]"
      ]
     },
     "execution_count": 40,
     "metadata": {},
     "output_type": "execute_result"
    }
   ],
   "source": [
    "X_train"
   ]
  },
  {
   "cell_type": "code",
   "execution_count": 82,
   "id": "2a655a3e",
   "metadata": {},
   "outputs": [],
   "source": [
    "from sklearn.ensemble import RandomForestClassifier, GradientBoostingClassifier\n",
    "from lightgbm import LGBMClassifier\n",
    "from sklearn.tree import DecisionTreeClassifier\n",
    "rfc = RandomForestClassifier(random_state=0)"
   ]
  },
  {
   "cell_type": "code",
   "execution_count": 83,
   "id": "4f46b3e4",
   "metadata": {},
   "outputs": [
    {
     "name": "stderr",
     "output_type": "stream",
     "text": [
      "C:\\ProgramData\\Anaconda3\\lib\\site-packages\\sklearn\\utils\\validation.py:1688: FutureWarning: Feature names only support names that are all strings. Got feature names with dtypes: ['int', 'str']. An error will be raised in 1.2.\n",
      "  warnings.warn(\n"
     ]
    },
    {
     "data": {
      "text/plain": [
       "RandomForestClassifier(random_state=0)"
      ]
     },
     "execution_count": 83,
     "metadata": {},
     "output_type": "execute_result"
    }
   ],
   "source": [
    "rfc.fit(X_train,y_train)"
   ]
  },
  {
   "cell_type": "code",
   "execution_count": 84,
   "id": "09069deb",
   "metadata": {},
   "outputs": [
    {
     "name": "stderr",
     "output_type": "stream",
     "text": [
      "C:\\ProgramData\\Anaconda3\\lib\\site-packages\\sklearn\\utils\\validation.py:1688: FutureWarning: Feature names only support names that are all strings. Got feature names with dtypes: ['int', 'str']. An error will be raised in 1.2.\n",
      "  warnings.warn(\n"
     ]
    }
   ],
   "source": [
    "y_pred = rfc.predict(X_test)"
   ]
  },
  {
   "cell_type": "code",
   "execution_count": 85,
   "id": "e858a676",
   "metadata": {},
   "outputs": [
    {
     "name": "stdout",
     "output_type": "stream",
     "text": [
      "[[11 20]\n",
      " [ 8 60]]\n",
      "0.75\n",
      "0.8823529411764706\n",
      "0.7171717171717171\n"
     ]
    }
   ],
   "source": [
    "from sklearn.metrics import confusion_matrix, precision_score, recall_score, accuracy_score\n",
    "print(confusion_matrix(y_test,y_pred))\n",
    "print(precision_score(y_test,y_pred))\n",
    "print(recall_score(y_test,y_pred))\n",
    "print(accuracy_score(y_test,y_pred))"
   ]
  },
  {
   "cell_type": "markdown",
   "id": "cf4e9e2c",
   "metadata": {},
   "source": [
    "# Predict on val set"
   ]
  },
  {
   "cell_type": "code",
   "execution_count": 45,
   "id": "634cd489",
   "metadata": {},
   "outputs": [
    {
     "data": {
      "text/html": [
       "<div>\n",
       "<style scoped>\n",
       "    .dataframe tbody tr th:only-of-type {\n",
       "        vertical-align: middle;\n",
       "    }\n",
       "\n",
       "    .dataframe tbody tr th {\n",
       "        vertical-align: top;\n",
       "    }\n",
       "\n",
       "    .dataframe thead th {\n",
       "        text-align: right;\n",
       "    }\n",
       "</style>\n",
       "<table border=\"1\" class=\"dataframe\">\n",
       "  <thead>\n",
       "    <tr style=\"text-align: right;\">\n",
       "      <th></th>\n",
       "      <th>Loan_ID</th>\n",
       "      <th>Gender</th>\n",
       "      <th>Married</th>\n",
       "      <th>Dependents</th>\n",
       "      <th>Education</th>\n",
       "      <th>Self_Employed</th>\n",
       "      <th>ApplicantIncome</th>\n",
       "      <th>CoapplicantIncome</th>\n",
       "      <th>LoanAmount</th>\n",
       "      <th>Loan_Amount_Term</th>\n",
       "      <th>Credit_History</th>\n",
       "      <th>Property_Area</th>\n",
       "    </tr>\n",
       "  </thead>\n",
       "  <tbody>\n",
       "    <tr>\n",
       "      <th>0</th>\n",
       "      <td>LP001736</td>\n",
       "      <td>Male</td>\n",
       "      <td>Yes</td>\n",
       "      <td>0</td>\n",
       "      <td>Graduate</td>\n",
       "      <td>No</td>\n",
       "      <td>2221</td>\n",
       "      <td>0</td>\n",
       "      <td>60.0</td>\n",
       "      <td>360.0</td>\n",
       "      <td>0.0</td>\n",
       "      <td>Urban</td>\n",
       "    </tr>\n",
       "    <tr>\n",
       "      <th>1</th>\n",
       "      <td>LP001384</td>\n",
       "      <td>Male</td>\n",
       "      <td>Yes</td>\n",
       "      <td>3+</td>\n",
       "      <td>Not Graduate</td>\n",
       "      <td>No</td>\n",
       "      <td>2071</td>\n",
       "      <td>754</td>\n",
       "      <td>94.0</td>\n",
       "      <td>480.0</td>\n",
       "      <td>1.0</td>\n",
       "      <td>Semiurban</td>\n",
       "    </tr>\n",
       "    <tr>\n",
       "      <th>2</th>\n",
       "      <td>LP002841</td>\n",
       "      <td>Male</td>\n",
       "      <td>Yes</td>\n",
       "      <td>0</td>\n",
       "      <td>Graduate</td>\n",
       "      <td>No</td>\n",
       "      <td>3166</td>\n",
       "      <td>2064</td>\n",
       "      <td>104.0</td>\n",
       "      <td>360.0</td>\n",
       "      <td>0.0</td>\n",
       "      <td>Urban</td>\n",
       "    </tr>\n",
       "    <tr>\n",
       "      <th>3</th>\n",
       "      <td>LP002097</td>\n",
       "      <td>Male</td>\n",
       "      <td>No</td>\n",
       "      <td>1</td>\n",
       "      <td>Graduate</td>\n",
       "      <td>No</td>\n",
       "      <td>4384</td>\n",
       "      <td>1793</td>\n",
       "      <td>117.0</td>\n",
       "      <td>360.0</td>\n",
       "      <td>1.0</td>\n",
       "      <td>Urban</td>\n",
       "    </tr>\n",
       "    <tr>\n",
       "      <th>4</th>\n",
       "      <td>LP002314</td>\n",
       "      <td>Female</td>\n",
       "      <td>No</td>\n",
       "      <td>0</td>\n",
       "      <td>Not Graduate</td>\n",
       "      <td>No</td>\n",
       "      <td>2213</td>\n",
       "      <td>0</td>\n",
       "      <td>66.0</td>\n",
       "      <td>360.0</td>\n",
       "      <td>1.0</td>\n",
       "      <td>Rural</td>\n",
       "    </tr>\n",
       "  </tbody>\n",
       "</table>\n",
       "</div>"
      ],
      "text/plain": [
       "    Loan_ID  Gender Married Dependents     Education Self_Employed  \\\n",
       "0  LP001736    Male     Yes          0      Graduate            No   \n",
       "1  LP001384    Male     Yes         3+  Not Graduate            No   \n",
       "2  LP002841    Male     Yes          0      Graduate            No   \n",
       "3  LP002097    Male      No          1      Graduate            No   \n",
       "4  LP002314  Female      No          0  Not Graduate            No   \n",
       "\n",
       "   ApplicantIncome  CoapplicantIncome  LoanAmount  Loan_Amount_Term  \\\n",
       "0             2221                  0        60.0             360.0   \n",
       "1             2071                754        94.0             480.0   \n",
       "2             3166               2064       104.0             360.0   \n",
       "3             4384               1793       117.0             360.0   \n",
       "4             2213                  0        66.0             360.0   \n",
       "\n",
       "   Credit_History Property_Area  \n",
       "0             0.0         Urban  \n",
       "1             1.0     Semiurban  \n",
       "2             0.0         Urban  \n",
       "3             1.0         Urban  \n",
       "4             1.0         Rural  "
      ]
     },
     "execution_count": 45,
     "metadata": {},
     "output_type": "execute_result"
    }
   ],
   "source": [
    "val.head()"
   ]
  },
  {
   "cell_type": "code",
   "execution_count": 46,
   "id": "d08d9484",
   "metadata": {},
   "outputs": [],
   "source": [
    "for i in val.columns[1:-2]:\n",
    "    if val[i].dtype == 'object':\n",
    "        val[i].fillna(val[i].mode()[0],inplace = True)\n",
    "val[\"Loan_Amount_Term\"].fillna(val[\"Loan_Amount_Term\"].mode()[0],inplace = True)"
   ]
  },
  {
   "cell_type": "code",
   "execution_count": 47,
   "id": "3ec45a60",
   "metadata": {},
   "outputs": [],
   "source": [
    "val = pd.concat([val,pd.get_dummies(val.Gender,prefix='Gender')],axis=1)\n",
    "val = pd.concat([val,pd.get_dummies(val.Married,prefix='Married')],axis=1)\n",
    "val.drop(['Gender','Married'],axis=1,inplace=True)"
   ]
  },
  {
   "cell_type": "code",
   "execution_count": 48,
   "id": "26ffd15b",
   "metadata": {},
   "outputs": [],
   "source": [
    "val['FamilyIncome'] = val['ApplicantIncome'] + val['CoapplicantIncome']"
   ]
  },
  {
   "cell_type": "code",
   "execution_count": 49,
   "id": "192fdb7e",
   "metadata": {},
   "outputs": [
    {
     "data": {
      "text/html": [
       "<div>\n",
       "<style scoped>\n",
       "    .dataframe tbody tr th:only-of-type {\n",
       "        vertical-align: middle;\n",
       "    }\n",
       "\n",
       "    .dataframe tbody tr th {\n",
       "        vertical-align: top;\n",
       "    }\n",
       "\n",
       "    .dataframe thead th {\n",
       "        text-align: right;\n",
       "    }\n",
       "</style>\n",
       "<table border=\"1\" class=\"dataframe\">\n",
       "  <thead>\n",
       "    <tr style=\"text-align: right;\">\n",
       "      <th></th>\n",
       "      <th>Loan_ID</th>\n",
       "      <th>Dependents</th>\n",
       "      <th>Education</th>\n",
       "      <th>Self_Employed</th>\n",
       "      <th>ApplicantIncome</th>\n",
       "      <th>CoapplicantIncome</th>\n",
       "      <th>LoanAmount</th>\n",
       "      <th>Loan_Amount_Term</th>\n",
       "      <th>Credit_History</th>\n",
       "      <th>Property_Area</th>\n",
       "      <th>Gender_Female</th>\n",
       "      <th>Gender_Male</th>\n",
       "      <th>Married_No</th>\n",
       "      <th>Married_Yes</th>\n",
       "      <th>FamilyIncome</th>\n",
       "    </tr>\n",
       "  </thead>\n",
       "  <tbody>\n",
       "    <tr>\n",
       "      <th>0</th>\n",
       "      <td>LP001736</td>\n",
       "      <td>0</td>\n",
       "      <td>Graduate</td>\n",
       "      <td>No</td>\n",
       "      <td>2221</td>\n",
       "      <td>0</td>\n",
       "      <td>60.0</td>\n",
       "      <td>360.0</td>\n",
       "      <td>0.0</td>\n",
       "      <td>Urban</td>\n",
       "      <td>0</td>\n",
       "      <td>1</td>\n",
       "      <td>0</td>\n",
       "      <td>1</td>\n",
       "      <td>2221</td>\n",
       "    </tr>\n",
       "    <tr>\n",
       "      <th>1</th>\n",
       "      <td>LP001384</td>\n",
       "      <td>3+</td>\n",
       "      <td>Not Graduate</td>\n",
       "      <td>No</td>\n",
       "      <td>2071</td>\n",
       "      <td>754</td>\n",
       "      <td>94.0</td>\n",
       "      <td>480.0</td>\n",
       "      <td>1.0</td>\n",
       "      <td>Semiurban</td>\n",
       "      <td>0</td>\n",
       "      <td>1</td>\n",
       "      <td>0</td>\n",
       "      <td>1</td>\n",
       "      <td>2825</td>\n",
       "    </tr>\n",
       "    <tr>\n",
       "      <th>2</th>\n",
       "      <td>LP002841</td>\n",
       "      <td>0</td>\n",
       "      <td>Graduate</td>\n",
       "      <td>No</td>\n",
       "      <td>3166</td>\n",
       "      <td>2064</td>\n",
       "      <td>104.0</td>\n",
       "      <td>360.0</td>\n",
       "      <td>0.0</td>\n",
       "      <td>Urban</td>\n",
       "      <td>0</td>\n",
       "      <td>1</td>\n",
       "      <td>0</td>\n",
       "      <td>1</td>\n",
       "      <td>5230</td>\n",
       "    </tr>\n",
       "    <tr>\n",
       "      <th>3</th>\n",
       "      <td>LP002097</td>\n",
       "      <td>1</td>\n",
       "      <td>Graduate</td>\n",
       "      <td>No</td>\n",
       "      <td>4384</td>\n",
       "      <td>1793</td>\n",
       "      <td>117.0</td>\n",
       "      <td>360.0</td>\n",
       "      <td>1.0</td>\n",
       "      <td>Urban</td>\n",
       "      <td>0</td>\n",
       "      <td>1</td>\n",
       "      <td>1</td>\n",
       "      <td>0</td>\n",
       "      <td>6177</td>\n",
       "    </tr>\n",
       "    <tr>\n",
       "      <th>4</th>\n",
       "      <td>LP002314</td>\n",
       "      <td>0</td>\n",
       "      <td>Not Graduate</td>\n",
       "      <td>No</td>\n",
       "      <td>2213</td>\n",
       "      <td>0</td>\n",
       "      <td>66.0</td>\n",
       "      <td>360.0</td>\n",
       "      <td>1.0</td>\n",
       "      <td>Rural</td>\n",
       "      <td>1</td>\n",
       "      <td>0</td>\n",
       "      <td>1</td>\n",
       "      <td>0</td>\n",
       "      <td>2213</td>\n",
       "    </tr>\n",
       "  </tbody>\n",
       "</table>\n",
       "</div>"
      ],
      "text/plain": [
       "    Loan_ID Dependents     Education Self_Employed  ApplicantIncome  \\\n",
       "0  LP001736          0      Graduate            No             2221   \n",
       "1  LP001384         3+  Not Graduate            No             2071   \n",
       "2  LP002841          0      Graduate            No             3166   \n",
       "3  LP002097          1      Graduate            No             4384   \n",
       "4  LP002314          0  Not Graduate            No             2213   \n",
       "\n",
       "   CoapplicantIncome  LoanAmount  Loan_Amount_Term  Credit_History  \\\n",
       "0                  0        60.0             360.0             0.0   \n",
       "1                754        94.0             480.0             1.0   \n",
       "2               2064       104.0             360.0             0.0   \n",
       "3               1793       117.0             360.0             1.0   \n",
       "4                  0        66.0             360.0             1.0   \n",
       "\n",
       "  Property_Area  Gender_Female  Gender_Male  Married_No  Married_Yes  \\\n",
       "0         Urban              0            1           0            1   \n",
       "1     Semiurban              0            1           0            1   \n",
       "2         Urban              0            1           0            1   \n",
       "3         Urban              0            1           1            0   \n",
       "4         Rural              1            0           1            0   \n",
       "\n",
       "   FamilyIncome  \n",
       "0          2221  \n",
       "1          2825  \n",
       "2          5230  \n",
       "3          6177  \n",
       "4          2213  "
      ]
     },
     "execution_count": 49,
     "metadata": {},
     "output_type": "execute_result"
    }
   ],
   "source": [
    "val.head()"
   ]
  },
  {
   "cell_type": "code",
   "execution_count": 50,
   "id": "43c09d1d",
   "metadata": {},
   "outputs": [],
   "source": [
    "val.Dependents = val.Dependents.map(dep_map)\n",
    "val.Self_Employed = val.Self_Employed.map(self_emp)\n",
    "val.Education = val.Education.map(grad)\n",
    "val.Property_Area = val.Property_Area.map(prp_area)\n",
    "val.Loan_Amount_Term = val.Loan_Amount_Term.map(loan_term)"
   ]
  },
  {
   "cell_type": "code",
   "execution_count": 51,
   "id": "0eb2250e",
   "metadata": {},
   "outputs": [
    {
     "data": {
      "text/html": [
       "<div>\n",
       "<style scoped>\n",
       "    .dataframe tbody tr th:only-of-type {\n",
       "        vertical-align: middle;\n",
       "    }\n",
       "\n",
       "    .dataframe tbody tr th {\n",
       "        vertical-align: top;\n",
       "    }\n",
       "\n",
       "    .dataframe thead th {\n",
       "        text-align: right;\n",
       "    }\n",
       "</style>\n",
       "<table border=\"1\" class=\"dataframe\">\n",
       "  <thead>\n",
       "    <tr style=\"text-align: right;\">\n",
       "      <th></th>\n",
       "      <th>Loan_ID</th>\n",
       "      <th>Dependents</th>\n",
       "      <th>Education</th>\n",
       "      <th>Self_Employed</th>\n",
       "      <th>ApplicantIncome</th>\n",
       "      <th>CoapplicantIncome</th>\n",
       "      <th>LoanAmount</th>\n",
       "      <th>Loan_Amount_Term</th>\n",
       "      <th>Credit_History</th>\n",
       "      <th>Property_Area</th>\n",
       "      <th>Gender_Female</th>\n",
       "      <th>Gender_Male</th>\n",
       "      <th>Married_No</th>\n",
       "      <th>Married_Yes</th>\n",
       "      <th>FamilyIncome</th>\n",
       "    </tr>\n",
       "  </thead>\n",
       "  <tbody>\n",
       "    <tr>\n",
       "      <th>0</th>\n",
       "      <td>LP001736</td>\n",
       "      <td>0</td>\n",
       "      <td>1</td>\n",
       "      <td>0</td>\n",
       "      <td>2221</td>\n",
       "      <td>0</td>\n",
       "      <td>60.0</td>\n",
       "      <td>30.0</td>\n",
       "      <td>0.0</td>\n",
       "      <td>2</td>\n",
       "      <td>0</td>\n",
       "      <td>1</td>\n",
       "      <td>0</td>\n",
       "      <td>1</td>\n",
       "      <td>2221</td>\n",
       "    </tr>\n",
       "    <tr>\n",
       "      <th>1</th>\n",
       "      <td>LP001384</td>\n",
       "      <td>4</td>\n",
       "      <td>0</td>\n",
       "      <td>0</td>\n",
       "      <td>2071</td>\n",
       "      <td>754</td>\n",
       "      <td>94.0</td>\n",
       "      <td>40.0</td>\n",
       "      <td>1.0</td>\n",
       "      <td>1</td>\n",
       "      <td>0</td>\n",
       "      <td>1</td>\n",
       "      <td>0</td>\n",
       "      <td>1</td>\n",
       "      <td>2825</td>\n",
       "    </tr>\n",
       "    <tr>\n",
       "      <th>2</th>\n",
       "      <td>LP002841</td>\n",
       "      <td>0</td>\n",
       "      <td>1</td>\n",
       "      <td>0</td>\n",
       "      <td>3166</td>\n",
       "      <td>2064</td>\n",
       "      <td>104.0</td>\n",
       "      <td>30.0</td>\n",
       "      <td>0.0</td>\n",
       "      <td>2</td>\n",
       "      <td>0</td>\n",
       "      <td>1</td>\n",
       "      <td>0</td>\n",
       "      <td>1</td>\n",
       "      <td>5230</td>\n",
       "    </tr>\n",
       "    <tr>\n",
       "      <th>3</th>\n",
       "      <td>LP002097</td>\n",
       "      <td>1</td>\n",
       "      <td>1</td>\n",
       "      <td>0</td>\n",
       "      <td>4384</td>\n",
       "      <td>1793</td>\n",
       "      <td>117.0</td>\n",
       "      <td>30.0</td>\n",
       "      <td>1.0</td>\n",
       "      <td>2</td>\n",
       "      <td>0</td>\n",
       "      <td>1</td>\n",
       "      <td>1</td>\n",
       "      <td>0</td>\n",
       "      <td>6177</td>\n",
       "    </tr>\n",
       "    <tr>\n",
       "      <th>4</th>\n",
       "      <td>LP002314</td>\n",
       "      <td>0</td>\n",
       "      <td>0</td>\n",
       "      <td>0</td>\n",
       "      <td>2213</td>\n",
       "      <td>0</td>\n",
       "      <td>66.0</td>\n",
       "      <td>30.0</td>\n",
       "      <td>1.0</td>\n",
       "      <td>0</td>\n",
       "      <td>1</td>\n",
       "      <td>0</td>\n",
       "      <td>1</td>\n",
       "      <td>0</td>\n",
       "      <td>2213</td>\n",
       "    </tr>\n",
       "    <tr>\n",
       "      <th>...</th>\n",
       "      <td>...</td>\n",
       "      <td>...</td>\n",
       "      <td>...</td>\n",
       "      <td>...</td>\n",
       "      <td>...</td>\n",
       "      <td>...</td>\n",
       "      <td>...</td>\n",
       "      <td>...</td>\n",
       "      <td>...</td>\n",
       "      <td>...</td>\n",
       "      <td>...</td>\n",
       "      <td>...</td>\n",
       "      <td>...</td>\n",
       "      <td>...</td>\n",
       "      <td>...</td>\n",
       "    </tr>\n",
       "    <tr>\n",
       "      <th>118</th>\n",
       "      <td>LP001050</td>\n",
       "      <td>2</td>\n",
       "      <td>0</td>\n",
       "      <td>0</td>\n",
       "      <td>3365</td>\n",
       "      <td>1917</td>\n",
       "      <td>112.0</td>\n",
       "      <td>30.0</td>\n",
       "      <td>0.0</td>\n",
       "      <td>0</td>\n",
       "      <td>0</td>\n",
       "      <td>1</td>\n",
       "      <td>0</td>\n",
       "      <td>1</td>\n",
       "      <td>5282</td>\n",
       "    </tr>\n",
       "    <tr>\n",
       "      <th>119</th>\n",
       "      <td>LP002055</td>\n",
       "      <td>0</td>\n",
       "      <td>1</td>\n",
       "      <td>0</td>\n",
       "      <td>3166</td>\n",
       "      <td>2985</td>\n",
       "      <td>132.0</td>\n",
       "      <td>30.0</td>\n",
       "      <td>NaN</td>\n",
       "      <td>0</td>\n",
       "      <td>1</td>\n",
       "      <td>0</td>\n",
       "      <td>1</td>\n",
       "      <td>0</td>\n",
       "      <td>6151</td>\n",
       "    </tr>\n",
       "    <tr>\n",
       "      <th>120</th>\n",
       "      <td>LP002128</td>\n",
       "      <td>2</td>\n",
       "      <td>1</td>\n",
       "      <td>0</td>\n",
       "      <td>2583</td>\n",
       "      <td>2330</td>\n",
       "      <td>125.0</td>\n",
       "      <td>30.0</td>\n",
       "      <td>1.0</td>\n",
       "      <td>0</td>\n",
       "      <td>0</td>\n",
       "      <td>1</td>\n",
       "      <td>0</td>\n",
       "      <td>1</td>\n",
       "      <td>4913</td>\n",
       "    </tr>\n",
       "    <tr>\n",
       "      <th>121</th>\n",
       "      <td>LP001770</td>\n",
       "      <td>0</td>\n",
       "      <td>0</td>\n",
       "      <td>0</td>\n",
       "      <td>3189</td>\n",
       "      <td>2598</td>\n",
       "      <td>120.0</td>\n",
       "      <td>30.0</td>\n",
       "      <td>1.0</td>\n",
       "      <td>0</td>\n",
       "      <td>0</td>\n",
       "      <td>1</td>\n",
       "      <td>1</td>\n",
       "      <td>0</td>\n",
       "      <td>5787</td>\n",
       "    </tr>\n",
       "    <tr>\n",
       "      <th>122</th>\n",
       "      <td>LP001811</td>\n",
       "      <td>0</td>\n",
       "      <td>0</td>\n",
       "      <td>0</td>\n",
       "      <td>3406</td>\n",
       "      <td>4417</td>\n",
       "      <td>123.0</td>\n",
       "      <td>30.0</td>\n",
       "      <td>1.0</td>\n",
       "      <td>1</td>\n",
       "      <td>0</td>\n",
       "      <td>1</td>\n",
       "      <td>0</td>\n",
       "      <td>1</td>\n",
       "      <td>7823</td>\n",
       "    </tr>\n",
       "  </tbody>\n",
       "</table>\n",
       "<p>123 rows × 15 columns</p>\n",
       "</div>"
      ],
      "text/plain": [
       "      Loan_ID  Dependents  Education  Self_Employed  ApplicantIncome  \\\n",
       "0    LP001736           0          1              0             2221   \n",
       "1    LP001384           4          0              0             2071   \n",
       "2    LP002841           0          1              0             3166   \n",
       "3    LP002097           1          1              0             4384   \n",
       "4    LP002314           0          0              0             2213   \n",
       "..        ...         ...        ...            ...              ...   \n",
       "118  LP001050           2          0              0             3365   \n",
       "119  LP002055           0          1              0             3166   \n",
       "120  LP002128           2          1              0             2583   \n",
       "121  LP001770           0          0              0             3189   \n",
       "122  LP001811           0          0              0             3406   \n",
       "\n",
       "     CoapplicantIncome  LoanAmount  Loan_Amount_Term  Credit_History  \\\n",
       "0                    0        60.0              30.0             0.0   \n",
       "1                  754        94.0              40.0             1.0   \n",
       "2                 2064       104.0              30.0             0.0   \n",
       "3                 1793       117.0              30.0             1.0   \n",
       "4                    0        66.0              30.0             1.0   \n",
       "..                 ...         ...               ...             ...   \n",
       "118               1917       112.0              30.0             0.0   \n",
       "119               2985       132.0              30.0             NaN   \n",
       "120               2330       125.0              30.0             1.0   \n",
       "121               2598       120.0              30.0             1.0   \n",
       "122               4417       123.0              30.0             1.0   \n",
       "\n",
       "     Property_Area  Gender_Female  Gender_Male  Married_No  Married_Yes  \\\n",
       "0                2              0            1           0            1   \n",
       "1                1              0            1           0            1   \n",
       "2                2              0            1           0            1   \n",
       "3                2              0            1           1            0   \n",
       "4                0              1            0           1            0   \n",
       "..             ...            ...          ...         ...          ...   \n",
       "118              0              0            1           0            1   \n",
       "119              0              1            0           1            0   \n",
       "120              0              0            1           0            1   \n",
       "121              0              0            1           1            0   \n",
       "122              1              0            1           0            1   \n",
       "\n",
       "     FamilyIncome  \n",
       "0            2221  \n",
       "1            2825  \n",
       "2            5230  \n",
       "3            6177  \n",
       "4            2213  \n",
       "..            ...  \n",
       "118          5282  \n",
       "119          6151  \n",
       "120          4913  \n",
       "121          5787  \n",
       "122          7823  \n",
       "\n",
       "[123 rows x 15 columns]"
      ]
     },
     "execution_count": 51,
     "metadata": {},
     "output_type": "execute_result"
    }
   ],
   "source": [
    "val"
   ]
  },
  {
   "cell_type": "code",
   "execution_count": 52,
   "id": "770db609",
   "metadata": {},
   "outputs": [
    {
     "name": "stdout",
     "output_type": "stream",
     "text": [
      "NA value ratio in Dependents\n",
      "0.0 % \n",
      "\n",
      "NA value ratio in Education\n",
      "0.0 % \n",
      "\n",
      "NA value ratio in Self_Employed\n",
      "0.0 % \n",
      "\n",
      "NA value ratio in ApplicantIncome\n",
      "0.0 % \n",
      "\n",
      "NA value ratio in CoapplicantIncome\n",
      "0.0 % \n",
      "\n",
      "NA value ratio in LoanAmount\n",
      "4.0650406504065035 % \n",
      "\n",
      "NA value ratio in Loan_Amount_Term\n",
      "0.0 % \n",
      "\n",
      "NA value ratio in Credit_History\n",
      "4.878048780487805 % \n",
      "\n",
      "NA value ratio in Property_Area\n",
      "0.0 % \n",
      "\n",
      "NA value ratio in Gender_Female\n",
      "0.0 % \n",
      "\n",
      "NA value ratio in Gender_Male\n",
      "0.0 % \n",
      "\n",
      "NA value ratio in Married_No\n",
      "0.0 % \n",
      "\n"
     ]
    }
   ],
   "source": [
    "for i in val.columns[1:-2]:\n",
    "    print(f\"NA value ratio in {i}\")\n",
    "    print((len(val[val[i].isna()])/val.shape[0])*100,'%' ,\"\\n\")"
   ]
  },
  {
   "cell_type": "code",
   "execution_count": 53,
   "id": "17dc5a5e",
   "metadata": {},
   "outputs": [],
   "source": [
    "val.Credit_History = val.Credit_History.astype('object')"
   ]
  },
  {
   "cell_type": "code",
   "execution_count": 54,
   "id": "5bdee1aa",
   "metadata": {},
   "outputs": [
    {
     "name": "stdout",
     "output_type": "stream",
     "text": [
      "<class 'pandas.core.frame.DataFrame'>\n",
      "RangeIndex: 123 entries, 0 to 122\n",
      "Data columns (total 15 columns):\n",
      " #   Column             Non-Null Count  Dtype  \n",
      "---  ------             --------------  -----  \n",
      " 0   Loan_ID            123 non-null    object \n",
      " 1   Dependents         123 non-null    int64  \n",
      " 2   Education          123 non-null    int64  \n",
      " 3   Self_Employed      123 non-null    int64  \n",
      " 4   ApplicantIncome    123 non-null    int64  \n",
      " 5   CoapplicantIncome  123 non-null    int64  \n",
      " 6   LoanAmount         118 non-null    float64\n",
      " 7   Loan_Amount_Term   123 non-null    float64\n",
      " 8   Credit_History     117 non-null    object \n",
      " 9   Property_Area      123 non-null    int64  \n",
      " 10  Gender_Female      123 non-null    uint8  \n",
      " 11  Gender_Male        123 non-null    uint8  \n",
      " 12  Married_No         123 non-null    uint8  \n",
      " 13  Married_Yes        123 non-null    uint8  \n",
      " 14  FamilyIncome       123 non-null    int64  \n",
      "dtypes: float64(2), int64(7), object(2), uint8(4)\n",
      "memory usage: 11.2+ KB\n"
     ]
    }
   ],
   "source": [
    "val.info()"
   ]
  },
  {
   "cell_type": "code",
   "execution_count": 55,
   "id": "90749c87",
   "metadata": {},
   "outputs": [],
   "source": [
    "from sklearn.impute import KNNImputer\n",
    "imputer = KNNImputer(n_neighbors=3)\n",
    "df_filled = imputer.fit_transform(val[['Credit_History']])"
   ]
  },
  {
   "cell_type": "code",
   "execution_count": 56,
   "id": "76d90eeb",
   "metadata": {},
   "outputs": [],
   "source": [
    "ch_arr = [1 if i > 0 else 0 for i in df_filled]"
   ]
  },
  {
   "cell_type": "code",
   "execution_count": 57,
   "id": "7af07f5d",
   "metadata": {},
   "outputs": [],
   "source": [
    "val.Credit_History = ch_arr"
   ]
  },
  {
   "cell_type": "markdown",
   "id": "a60111ea",
   "metadata": {},
   "source": [
    "# To fill the NaN in LoanAmount "
   ]
  },
  {
   "cell_type": "code",
   "execution_count": 58,
   "id": "ad8bfa50",
   "metadata": {},
   "outputs": [
    {
     "name": "stderr",
     "output_type": "stream",
     "text": [
      "C:\\ProgramData\\Anaconda3\\lib\\site-packages\\seaborn\\distributions.py:2619: FutureWarning: `distplot` is a deprecated function and will be removed in a future version. Please adapt your code to use either `displot` (a figure-level function with similar flexibility) or `histplot` (an axes-level function for histograms).\n",
      "  warnings.warn(msg, FutureWarning)\n"
     ]
    },
    {
     "data": {
      "text/plain": [
       "<AxesSubplot:xlabel='FamilyIncome', ylabel='Density'>"
      ]
     },
     "execution_count": 58,
     "metadata": {},
     "output_type": "execute_result"
    },
    {
     "data": {
      "image/png": "[encoded data removed]",
      "text/plain": [
       "<Figure size 640x480 with 1 Axes>"
      ]
     },
     "metadata": {},
     "output_type": "display_data"
    }
   ],
   "source": [
    "sns.distplot(np.log(val.FamilyIncome))"
   ]
  },
  {
   "cell_type": "code",
   "execution_count": 59,
   "id": "3570bae4",
   "metadata": {},
   "outputs": [
    {
     "name": "stderr",
     "output_type": "stream",
     "text": [
      "C:\\ProgramData\\Anaconda3\\lib\\site-packages\\seaborn\\_decorators.py:36: FutureWarning: Pass the following variables as keyword args: x, y. From version 0.12, the only valid positional argument will be `data`, and passing other arguments without an explicit keyword will result in an error or misinterpretation.\n",
      "  warnings.warn(\n"
     ]
    },
    {
     "data": {
      "text/plain": [
       "<AxesSubplot:xlabel='FamilyIncome', ylabel='LoanAmount'>"
      ]
     },
     "execution_count": 59,
     "metadata": {},
     "output_type": "execute_result"
    },
    {
     "data": {
      "image/png": "[encoded data removed]",
      "text/plain": [
       "<Figure size 640x480 with 1 Axes>"
      ]
     },
     "metadata": {},
     "output_type": "display_data"
    }
   ],
   "source": [
    "sns.regplot(np.log((val.FamilyIncome)),np.log(val.LoanAmount))"
   ]
  },
  {
   "cell_type": "code",
   "execution_count": 60,
   "id": "86a7afa4",
   "metadata": {},
   "outputs": [],
   "source": [
    "from sklearn.linear_model import LinearRegression"
   ]
  },
  {
   "cell_type": "code",
   "execution_count": 61,
   "id": "105cfa76",
   "metadata": {},
   "outputs": [],
   "source": [
    "test_index = val[val['LoanAmount'].isna()].index"
   ]
  },
  {
   "cell_type": "code",
   "execution_count": 62,
   "id": "2841f273",
   "metadata": {},
   "outputs": [
    {
     "data": {
      "text/plain": [
       "LinearRegression()"
      ]
     },
     "execution_count": 62,
     "metadata": {},
     "output_type": "execute_result"
    }
   ],
   "source": [
    "train_X = np.log(val[~val.index.isin(test_index)]['FamilyIncome'])\n",
    "test_X = np.log(val[val.index.isin(test_index)]['FamilyIncome'])\n",
    "\n",
    "train_y = np.log(val[~val['LoanAmount'].isna()]['LoanAmount'])\n",
    "test_y = val[val['LoanAmount'].isna()]['LoanAmount']\n",
    "\n",
    "lr = LinearRegression()\n",
    "lr.fit(np.array(train_X).reshape(-1, 1),np.array(train_y).reshape(-1, 1))"
   ]
  },
  {
   "cell_type": "code",
   "execution_count": 63,
   "id": "ea0fbc9b",
   "metadata": {},
   "outputs": [],
   "source": [
    "val.loc[val.index.isin(test_index),'LoanAmount'] = np.exp(lr.predict(np.array(test_X).reshape(-1,1)))"
   ]
  },
  {
   "cell_type": "code",
   "execution_count": 64,
   "id": "5642c15a",
   "metadata": {},
   "outputs": [
    {
     "name": "stdout",
     "output_type": "stream",
     "text": [
      "<class 'pandas.core.frame.DataFrame'>\n",
      "RangeIndex: 123 entries, 0 to 122\n",
      "Data columns (total 15 columns):\n",
      " #   Column             Non-Null Count  Dtype  \n",
      "---  ------             --------------  -----  \n",
      " 0   Loan_ID            123 non-null    object \n",
      " 1   Dependents         123 non-null    int64  \n",
      " 2   Education          123 non-null    int64  \n",
      " 3   Self_Employed      123 non-null    int64  \n",
      " 4   ApplicantIncome    123 non-null    int64  \n",
      " 5   CoapplicantIncome  123 non-null    int64  \n",
      " 6   LoanAmount         123 non-null    float64\n",
      " 7   Loan_Amount_Term   123 non-null    float64\n",
      " 8   Credit_History     123 non-null    int64  \n",
      " 9   Property_Area      123 non-null    int64  \n",
      " 10  Gender_Female      123 non-null    uint8  \n",
      " 11  Gender_Male        123 non-null    uint8  \n",
      " 12  Married_No         123 non-null    uint8  \n",
      " 13  Married_Yes        123 non-null    uint8  \n",
      " 14  FamilyIncome       123 non-null    int64  \n",
      "dtypes: float64(2), int64(8), object(1), uint8(4)\n",
      "memory usage: 11.2+ KB\n"
     ]
    }
   ],
   "source": [
    "val.info()"
   ]
  },
  {
   "cell_type": "code",
   "execution_count": 65,
   "id": "60f221ab",
   "metadata": {},
   "outputs": [],
   "source": [
    "val['IncomePermember'] = np.where(val['Dependents'] != 0, val['FamilyIncome'] / val['Dependents'], val['FamilyIncome'])"
   ]
  },
  {
   "cell_type": "code",
   "execution_count": 66,
   "id": "3d6de74d",
   "metadata": {},
   "outputs": [
    {
     "data": {
      "text/html": [
       "<div>\n",
       "<style scoped>\n",
       "    .dataframe tbody tr th:only-of-type {\n",
       "        vertical-align: middle;\n",
       "    }\n",
       "\n",
       "    .dataframe tbody tr th {\n",
       "        vertical-align: top;\n",
       "    }\n",
       "\n",
       "    .dataframe thead th {\n",
       "        text-align: right;\n",
       "    }\n",
       "</style>\n",
       "<table border=\"1\" class=\"dataframe\">\n",
       "  <thead>\n",
       "    <tr style=\"text-align: right;\">\n",
       "      <th></th>\n",
       "      <th>Loan_ID</th>\n",
       "      <th>Dependents</th>\n",
       "      <th>Education</th>\n",
       "      <th>Self_Employed</th>\n",
       "      <th>ApplicantIncome</th>\n",
       "      <th>CoapplicantIncome</th>\n",
       "      <th>LoanAmount</th>\n",
       "      <th>Loan_Amount_Term</th>\n",
       "      <th>Credit_History</th>\n",
       "      <th>Property_Area</th>\n",
       "      <th>Gender_Female</th>\n",
       "      <th>Gender_Male</th>\n",
       "      <th>Married_No</th>\n",
       "      <th>Married_Yes</th>\n",
       "      <th>FamilyIncome</th>\n",
       "      <th>IncomePermember</th>\n",
       "    </tr>\n",
       "  </thead>\n",
       "  <tbody>\n",
       "    <tr>\n",
       "      <th>0</th>\n",
       "      <td>LP001736</td>\n",
       "      <td>0</td>\n",
       "      <td>1</td>\n",
       "      <td>0</td>\n",
       "      <td>2221</td>\n",
       "      <td>0</td>\n",
       "      <td>60.0</td>\n",
       "      <td>30.0</td>\n",
       "      <td>0</td>\n",
       "      <td>2</td>\n",
       "      <td>0</td>\n",
       "      <td>1</td>\n",
       "      <td>0</td>\n",
       "      <td>1</td>\n",
       "      <td>2221</td>\n",
       "      <td>2221.00</td>\n",
       "    </tr>\n",
       "    <tr>\n",
       "      <th>1</th>\n",
       "      <td>LP001384</td>\n",
       "      <td>4</td>\n",
       "      <td>0</td>\n",
       "      <td>0</td>\n",
       "      <td>2071</td>\n",
       "      <td>754</td>\n",
       "      <td>94.0</td>\n",
       "      <td>40.0</td>\n",
       "      <td>1</td>\n",
       "      <td>1</td>\n",
       "      <td>0</td>\n",
       "      <td>1</td>\n",
       "      <td>0</td>\n",
       "      <td>1</td>\n",
       "      <td>2825</td>\n",
       "      <td>706.25</td>\n",
       "    </tr>\n",
       "    <tr>\n",
       "      <th>2</th>\n",
       "      <td>LP002841</td>\n",
       "      <td>0</td>\n",
       "      <td>1</td>\n",
       "      <td>0</td>\n",
       "      <td>3166</td>\n",
       "      <td>2064</td>\n",
       "      <td>104.0</td>\n",
       "      <td>30.0</td>\n",
       "      <td>0</td>\n",
       "      <td>2</td>\n",
       "      <td>0</td>\n",
       "      <td>1</td>\n",
       "      <td>0</td>\n",
       "      <td>1</td>\n",
       "      <td>5230</td>\n",
       "      <td>5230.00</td>\n",
       "    </tr>\n",
       "    <tr>\n",
       "      <th>3</th>\n",
       "      <td>LP002097</td>\n",
       "      <td>1</td>\n",
       "      <td>1</td>\n",
       "      <td>0</td>\n",
       "      <td>4384</td>\n",
       "      <td>1793</td>\n",
       "      <td>117.0</td>\n",
       "      <td>30.0</td>\n",
       "      <td>1</td>\n",
       "      <td>2</td>\n",
       "      <td>0</td>\n",
       "      <td>1</td>\n",
       "      <td>1</td>\n",
       "      <td>0</td>\n",
       "      <td>6177</td>\n",
       "      <td>6177.00</td>\n",
       "    </tr>\n",
       "    <tr>\n",
       "      <th>4</th>\n",
       "      <td>LP002314</td>\n",
       "      <td>0</td>\n",
       "      <td>0</td>\n",
       "      <td>0</td>\n",
       "      <td>2213</td>\n",
       "      <td>0</td>\n",
       "      <td>66.0</td>\n",
       "      <td>30.0</td>\n",
       "      <td>1</td>\n",
       "      <td>0</td>\n",
       "      <td>1</td>\n",
       "      <td>0</td>\n",
       "      <td>1</td>\n",
       "      <td>0</td>\n",
       "      <td>2213</td>\n",
       "      <td>2213.00</td>\n",
       "    </tr>\n",
       "  </tbody>\n",
       "</table>\n",
       "</div>"
      ],
      "text/plain": [
       "    Loan_ID  Dependents  Education  Self_Employed  ApplicantIncome  \\\n",
       "0  LP001736           0          1              0             2221   \n",
       "1  LP001384           4          0              0             2071   \n",
       "2  LP002841           0          1              0             3166   \n",
       "3  LP002097           1          1              0             4384   \n",
       "4  LP002314           0          0              0             2213   \n",
       "\n",
       "   CoapplicantIncome  LoanAmount  Loan_Amount_Term  Credit_History  \\\n",
       "0                  0        60.0              30.0               0   \n",
       "1                754        94.0              40.0               1   \n",
       "2               2064       104.0              30.0               0   \n",
       "3               1793       117.0              30.0               1   \n",
       "4                  0        66.0              30.0               1   \n",
       "\n",
       "   Property_Area  Gender_Female  Gender_Male  Married_No  Married_Yes  \\\n",
       "0              2              0            1           0            1   \n",
       "1              1              0            1           0            1   \n",
       "2              2              0            1           0            1   \n",
       "3              2              0            1           1            0   \n",
       "4              0              1            0           1            0   \n",
       "\n",
       "   FamilyIncome  IncomePermember  \n",
       "0          2221          2221.00  \n",
       "1          2825           706.25  \n",
       "2          5230          5230.00  \n",
       "3          6177          6177.00  \n",
       "4          2213          2213.00  "
      ]
     },
     "execution_count": 66,
     "metadata": {},
     "output_type": "execute_result"
    }
   ],
   "source": [
    "val.head()"
   ]
  },
  {
   "cell_type": "markdown",
   "id": "636e8297",
   "metadata": {},
   "source": [
    "# scalling and prediction of validation set"
   ]
  },
  {
   "cell_type": "code",
   "execution_count": 67,
   "id": "d6251c07",
   "metadata": {},
   "outputs": [],
   "source": [
    "val = val[['Gender_Female','Gender_Male','Married_No','Married_Yes', 'Education', 'Self_Employed'\n",
    "       ,'Credit_History', 'Property_Area','Loan_Amount_Term','IncomePermember','LoanAmount']]"
   ]
  },
  {
   "cell_type": "code",
   "execution_count": 68,
   "id": "4d67442a",
   "metadata": {},
   "outputs": [],
   "source": [
    "X_val = sc.transform(val.iloc[:,:-2])"
   ]
  },
  {
   "cell_type": "code",
   "execution_count": 69,
   "id": "f1f91f2f",
   "metadata": {},
   "outputs": [],
   "source": [
    "a = pd.DataFrame(X_val)"
   ]
  },
  {
   "cell_type": "code",
   "execution_count": 70,
   "id": "3ee8f676",
   "metadata": {},
   "outputs": [],
   "source": [
    "b = pd.DataFrame(np.log(val.iloc[:,-2:]))"
   ]
  },
  {
   "cell_type": "code",
   "execution_count": 71,
   "id": "eb2af199",
   "metadata": {},
   "outputs": [],
   "source": [
    "a.reset_index(drop=True,inplace=True)\n",
    "b.reset_index(drop=True,inplace=True)"
   ]
  },
  {
   "cell_type": "code",
   "execution_count": 72,
   "id": "b5210e23",
   "metadata": {},
   "outputs": [],
   "source": [
    "val_set = pd.concat([a, b],axis=1)"
   ]
  },
  {
   "cell_type": "code",
   "execution_count": 73,
   "id": "9820a63e",
   "metadata": {},
   "outputs": [
    {
     "name": "stderr",
     "output_type": "stream",
     "text": [
      "C:\\ProgramData\\Anaconda3\\lib\\site-packages\\sklearn\\utils\\validation.py:1688: FutureWarning: Feature names only support names that are all strings. Got feature names with dtypes: ['int', 'str']. An error will be raised in 1.2.\n",
      "  warnings.warn(\n"
     ]
    }
   ],
   "source": [
    "val_pred = rfc.predict(val_set)"
   ]
  },
  {
   "cell_type": "code",
   "execution_count": 74,
   "id": "d244dbb3",
   "metadata": {},
   "outputs": [
    {
     "data": {
      "text/plain": [
       "array([0, 1, 0, 1, 1, 0, 1, 1, 0, 1, 1, 1, 1, 1, 1, 1, 1, 1, 0, 1, 1, 0,\n",
       "       1, 1, 1, 1, 1, 1, 1, 1, 1, 0, 1, 0, 1, 0, 1, 1, 1, 0, 1, 0, 1, 0,\n",
       "       1, 1, 1, 1, 0, 1, 1, 1, 1, 0, 1, 1, 1, 1, 1, 0, 1, 1, 1, 1, 1, 1,\n",
       "       1, 0, 1, 1, 1, 1, 1, 1, 1, 1, 1, 1, 0, 1, 1, 1, 1, 1, 1, 0, 0, 1,\n",
       "       1, 1, 0, 0, 0, 0, 0, 0, 1, 1, 1, 1, 0, 1, 0, 0, 1, 1, 1, 0, 0, 1,\n",
       "       1, 0, 1, 0, 1, 1, 1, 1, 0, 1, 1, 1, 1], dtype=int64)"
      ]
     },
     "execution_count": 74,
     "metadata": {},
     "output_type": "execute_result"
    }
   ],
   "source": [
    "val_pred"
   ]
  },
  {
   "cell_type": "code",
   "execution_count": 86,
   "id": "de88aaea",
   "metadata": {},
   "outputs": [],
   "source": [
    "ls = [\"Y\" if i == 1 else \"N\" for i in val_pred]"
   ]
  },
  {
   "cell_type": "code",
   "execution_count": 75,
   "id": "235127d4",
   "metadata": {},
   "outputs": [],
   "source": [
    "val_ind = pd.read_csv(r\"validation.csv\").iloc[:,0]"
   ]
  },
  {
   "cell_type": "code",
   "execution_count": 88,
   "id": "68e25b3f",
   "metadata": {},
   "outputs": [
    {
     "name": "stderr",
     "output_type": "stream",
     "text": [
      "C:\\Users\\amit.mane\\AppData\\Local\\Temp\\ipykernel_26132\\3624821811.py:1: SettingWithCopyWarning: \n",
      "A value is trying to be set on a copy of a slice from a DataFrame.\n",
      "Try using .loc[row_indexer,col_indexer] = value instead\n",
      "\n",
      "See the caveats in the documentation: https://pandas.pydata.org/pandas-docs/stable/user_guide/indexing.html#returning-a-view-versus-a-copy\n",
      "  val[\"Loan_ID\"] = val_ind\n",
      "C:\\Users\\amit.mane\\AppData\\Local\\Temp\\ipykernel_26132\\3624821811.py:2: SettingWithCopyWarning: \n",
      "A value is trying to be set on a copy of a slice from a DataFrame.\n",
      "Try using .loc[row_indexer,col_indexer] = value instead\n",
      "\n",
      "See the caveats in the documentation: https://pandas.pydata.org/pandas-docs/stable/user_guide/indexing.html#returning-a-view-versus-a-copy\n",
      "  val[\"Loan_Status\"] = ls\n"
     ]
    }
   ],
   "source": [
    "val[\"Loan_ID\"] = val_ind\n",
    "val[\"Loan_Status\"] = ls"
   ]
  },
  {
   "cell_type": "code",
   "execution_count": 89,
   "id": "1502bb49",
   "metadata": {},
   "outputs": [],
   "source": [
    "val[['Loan_ID','Loan_Status']].to_csv(r\"results.csv\",index=False)"
   ]
  },
  {
   "cell_type": "code",
   "execution_count": null,
   "id": "b63d2636",
   "metadata": {},
   "outputs": [],
   "source": []
  }
 ],
 "metadata": {
  "kernelspec": {
   "display_name": "Python 3 (ipykernel)",
   "language": "python",
   "name": "python3"
  },
  "language_info": {
   "codemirror_mode": {
    "name": "ipython",
    "version": 3
   },
   "file_extension": ".py",
   "mimetype": "text/x-python",
   "name": "python",
   "nbconvert_exporter": "python",
   "pygments_lexer": "ipython3",
   "version": "3.9.13"
  }
 },
 "nbformat": 4,
 "nbformat_minor": 5
}
